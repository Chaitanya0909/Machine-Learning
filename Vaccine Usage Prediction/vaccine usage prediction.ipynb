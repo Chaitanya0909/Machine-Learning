{
 "cells": [
  {
   "cell_type": "markdown",
   "metadata": {
    "colab_type": "text",
    "id": "D_drqRn3ebnZ"
   },
   "source": [
    "<table align=\"left\" width=100%>\n",
    "    <tr>\n",
    "        <td>\n",
    "            <div align=\"left\">\n",
    "                <font color=\"#21618C\" size=8px>\n",
    "                  <b>Vaccine Prediction\n",
    "                    </b>\n",
    "                </font>\n",
    "            </div>\n",
    "        </td>\n",
    "    </tr>\n",
    "</table>"
   ]
  },
  {
   "cell_type": "markdown",
   "metadata": {
    "colab_type": "text",
    "id": "3OXjYS1webna"
   },
   "source": [
    "# Problem Statement\n",
    "\n",
    "The data set is the response of people to the h1n1 flu vaccine related questionnaire. The respondents are people of age 6 months and older. This survey was designed to monitor the influenza immunization coverage in 2009-10 season. Machine learning techniques may aid a more efficient analysis in the prediction of how likely the people are to opt for the flu vaccine. In this case study, we predict, how likely it is that the people will take a H1N1 flu vaccine.        "
   ]
  },
  {
   "cell_type": "markdown",
   "metadata": {
    "colab_type": "text",
    "id": "AQO22FFqebnb"
   },
   "source": [
    "# Data Definition\n",
    "\n",
    "**unique_id**: Unique identifier for each respondent - (Numerical)    \n",
    "\n",
    "**h1n1_worry**: Worry about the h1n1 flu(0,1,2,3) 0=Not worried at all, 1=Not very worried, 2=Somewhat worried, 3=Very worried - (Categorical)\n",
    "\n",
    "**h1n1_awareness**: Signifies the amount of knowledge or understanding the respondent has about h1n1 flu - (0,1,2) - 0=No knowledge, 1=little knowledge, 2=good knowledge- (Categorical) \n",
    " \n",
    "**antiviral_medication**: Has the respondent taken antiviral vaccination - (0,1) (Categorical)\n",
    "    \n",
    "**contact_avoidance**: Has avoided any close contact with people who have flu-like symptoms  - (0,1) - (Categorical)\n",
    "    \n",
    "**bought_face_mask**: Has the respondent bought mask or not - (0,1) - (Categorical)\n",
    "    \n",
    "**wash_hands_frequently**: Washes hands frequently or uses hand sanitizer - (0,1) - (Categorical)\n",
    "    \n",
    "**avoid_large_gatherings**: Has the respondent reduced time spent at large gatherings - (0,1) - (Categorical)\n",
    "    \n",
    "**reduced_outside_home_cont**: Has the respondent reduced contact with people outside own house - (0,1) - (Categorical)\n",
    "    \n",
    "**avoid_touch_face**: Avoids touching nose, eyes, mouth - (0,1) - (Categorical)\n",
    "\n",
    "**dr_recc_h1n1_vacc**: Doctor has recommended h1n1 vaccine - (0,1) - (Categorical)\n",
    "    \n",
    "**dr_recc_seasonal_vacc**: Doctor has recommended seasonalflu vaccine - (0,1) - (Categorical)\n",
    "    \n",
    "**chronic_medic_condition**: Has any chronic medical condition - (0,1) - (Categorical)\n",
    "    \n",
    "**cont_child_undr_6_mnth** - Has a regular contact with child the age of 6 months - (0,1) - (Categorical)\n",
    "\n",
    "**is_health_worker**: Is respondent a health worker - (0,1) - (Categorical)\n",
    "    \n",
    "**has_health_insur**: Does respondent have health insurance - (0,1) - (Categorical)\n",
    "    \n",
    "**is_h1n1_vacc_effective**:  Does respondent think that the h1n1 vaccine is effective - (1,2,3,4,5)- (1=Thinks not effective at all, 2=Thinks it is not very effective, 3=Doesn't know if it is effective or not, 4=Thinks it is somewhat effective, 5=Thinks it is highly effective) - (Categorical)\n",
    "\n",
    "**is_h1n1_risky**: What respondenst think about the risk of getting ill with h1n1 in the absence of the vaccine- (1,2,3,4,5)- (1=Thinks it is not very low risk, 2=Thinks it is somewhat low risk, 3=Doesn't know if it is risky or not, 4=Thinks it is somewhat high risk, 5=Thinks it is very highly risky) - (Categorical)\n",
    " \n",
    "**sick_from_h1n1_vacc**: Does respondent worry about getting sick by taking the h1n1 vaccine - (1,2,3,4,5)- (1=Respondent not worried at all, 2=Respondent is not very worried, 3=Doesn't know, 4=Respondent is somewhat worried, 5Respondent is very worried) - (Categorical)\n",
    "\n",
    "**is_seas_vacc_effective**: Does respondent think that the seasonal vaccine is effective- (1,2,3,4,5)- (1=Thinks not effective at all, 2=Thinks it is not very effective, 3=Doesn't know if it is effective or not, 4=Thinks it is somewhat effective, 5=Thinks it is highly effective) - (Categorical)\n",
    "\n",
    "**is_seas_flu_risky**: What respondenst think about the risk of getting ill with seasonal flu in the absence of the vaccine- (1,2,3,4,5)- (1=Thinks it is not very low risk, 2=Thinks it is somewhat low risk, 3=Doesn't know if it is risky or not, 4=Thinks it is somewhat high risk, 5=Thinks it is very highly risky) - (Categorical)\n",
    " \n",
    "**sick_from_seas_vacc**: Does respondent worry about getting sick by taking the seasonal flu vaccine - (1,2,3,4,5)- (1=Respondent not worried at all, 2=Respondent is not very worried, 3=Doesn't know, 4=Respondent is somewhat worried, 5Respondent is very worried) - (Categorical)\n",
    "\n",
    "**age_bracket** - Age bracket of the respondent - (18 - 34 Years, 35 - 44 Years, 45 - 54 Years, 55 - 64 Years, 64+ Years) - (Categorical)\n",
    "    \n",
    "**qualification** - Qualification/education level of the respondent as per their response -(<12 Years, 12 Years, College Graduate, Some College) - (Categorical)\n",
    "    \n",
    "**race**: Respondent's race - (White, Black, Other or Multiple ,Hispanic) - (Categorical) \n",
    "    \n",
    "**sex**: Respondent's sex - (Female, Male) - (Categorical)\n",
    "    \n",
    "**income_level**:Annual income of the respondent as per the 2008 poverty Census - (<=$75000-Above Poverty, >$75000, Below Poverty) - (Categorical)\n",
    "    \n",
    "**marital_status**: Respondent's marital status - (Not Married, Married) - (Categorical)\n",
    "    \n",
    "**housing_status**: Respondent's housing status - (Own, Rent) - (Categorical)\n",
    "    \n",
    "**employment**: Respondent's employment status - (Not in Labor Force, Employed, Unemployed) - (Categorical)\n",
    "    \n",
    "**census_msa**: Residence of the respondent with the MSA(metropolitan statistical area)(Non-MSA, MSA-Not Principle, CityMSA-Principle city) - (Yes, no) - (Categorical)\n",
    "    \n",
    "**no_of_adults**:  Number of adults in the respondent's house (0,1,2,3) - (Yes, no) - (Categorical)\n",
    "\n",
    "**no_of_children**: Number of children in the respondent's house(0,1,2,3) - (Yes, No) - (Categorical)\n",
    "\n",
    "**h1n1_vaccine**: (Dependent variable)Did the respondent received the h1n1 vaccine or not(1,0) - (Yes, No) - (Categorical)"
   ]
  },
  {
   "cell_type": "markdown",
   "metadata": {},
   "source": [
    "# Import Libraries"
   ]
  },
  {
   "cell_type": "code",
   "execution_count": 5,
   "metadata": {
    "ExecuteTime": {
     "end_time": "2021-06-22T06:04:52.552805Z",
     "start_time": "2021-06-22T06:04:52.523100Z"
    }
   },
   "outputs": [],
   "source": [
    "# suppress display of warnings\n",
    "import warnings\n",
    "warnings.filterwarnings(\"ignore\")\n",
    "\n",
    "# 'Pandas' is used for data manipulation and analysis\n",
    "import pandas as pd\n",
    "pd.set_option('display.max_rows', 50)\n",
    "pd.set_option('display.max_columns', 50)\n",
    "pd.set_option('display.width', 100)\n",
    "\n",
    "# 'Numpy' is used for mathematical operations on large, multi-dimensional arrays and matrices\n",
    "import numpy as np\n",
    "\n",
    "# 'Matplotlib' is a data visualization library for 2D and 3D plots, built on numpy\n",
    "import matplotlib.pyplot as plt\n",
    "from matplotlib.colors import ListedColormap\n",
    "\n",
    "# 'Seaborn' is based on matplotlib; used for plotting statistical graphics\n",
    "import seaborn as sns\n",
    "\n",
    "# import 'is_string_dtype' to check if the type of input is string  \n",
    "from pandas.api.types import is_string_dtype\n",
    "\n",
    "# import various functions to perform classification\n",
    "from sklearn.preprocessing import StandardScaler\n",
    "from sklearn.model_selection import train_test_split\n",
    "from sklearn import metrics\n",
    "from sklearn.linear_model import LogisticRegression\n",
    "from sklearn.metrics import classification_report\n",
    "from sklearn.metrics import confusion_matrix\n",
    "from sklearn.metrics import roc_auc_score\n",
    "from sklearn.metrics import roc_curve\n",
    "from sklearn.model_selection import GridSearchCV\n",
    "\n",
    "# import functions to perform logistic regression\n",
    "import statsmodels\n",
    "import statsmodels.api as sm\n",
    "from sklearn.linear_model import SGDClassifier\n",
    "\n",
    "# set the plot size using 'rcParams'\n",
    "# once the plot size is set using 'rcParams', it sets the size of all the forthcoming plots in the file\n",
    "# pass width and height in inches to 'figure.figsize' \n",
    "plt.rcParams['figure.figsize'] = [15,8]"
   ]
  },
  {
   "cell_type": "markdown",
   "metadata": {},
   "source": [
    "# Read the dataset"
   ]
  },
  {
   "cell_type": "code",
   "execution_count": 6,
   "metadata": {
    "ExecuteTime": {
     "end_time": "2021-06-22T06:04:52.676884Z",
     "start_time": "2021-06-22T06:04:52.554648Z"
    }
   },
   "outputs": [
    {
     "data": {
      "text/html": [
       "<div>\n",
       "<style scoped>\n",
       "    .dataframe tbody tr th:only-of-type {\n",
       "        vertical-align: middle;\n",
       "    }\n",
       "\n",
       "    .dataframe tbody tr th {\n",
       "        vertical-align: top;\n",
       "    }\n",
       "\n",
       "    .dataframe thead th {\n",
       "        text-align: right;\n",
       "    }\n",
       "</style>\n",
       "<table border=\"1\" class=\"dataframe\">\n",
       "  <thead>\n",
       "    <tr style=\"text-align: right;\">\n",
       "      <th></th>\n",
       "      <th>unique_id</th>\n",
       "      <th>h1n1_worry</th>\n",
       "      <th>h1n1_awareness</th>\n",
       "      <th>antiviral_medication</th>\n",
       "      <th>contact_avoidance</th>\n",
       "      <th>bought_face_mask</th>\n",
       "      <th>wash_hands_frequently</th>\n",
       "      <th>avoid_large_gatherings</th>\n",
       "      <th>reduced_outside_home_cont</th>\n",
       "      <th>avoid_touch_face</th>\n",
       "      <th>dr_recc_h1n1_vacc</th>\n",
       "      <th>dr_recc_seasonal_vacc</th>\n",
       "      <th>chronic_medic_condition</th>\n",
       "      <th>cont_child_undr_6_mnths</th>\n",
       "      <th>is_health_worker</th>\n",
       "      <th>has_health_insur</th>\n",
       "      <th>is_h1n1_vacc_effective</th>\n",
       "      <th>is_h1n1_risky</th>\n",
       "      <th>sick_from_h1n1_vacc</th>\n",
       "      <th>is_seas_vacc_effective</th>\n",
       "      <th>is_seas_risky</th>\n",
       "      <th>sick_from_seas_vacc</th>\n",
       "      <th>age_bracket</th>\n",
       "      <th>qualification</th>\n",
       "      <th>race</th>\n",
       "      <th>sex</th>\n",
       "      <th>income_level</th>\n",
       "      <th>marital_status</th>\n",
       "      <th>housing_status</th>\n",
       "      <th>employment</th>\n",
       "      <th>census_msa</th>\n",
       "      <th>no_of_adults</th>\n",
       "      <th>no_of_children</th>\n",
       "      <th>h1n1_vaccine</th>\n",
       "    </tr>\n",
       "  </thead>\n",
       "  <tbody>\n",
       "    <tr>\n",
       "      <th>0</th>\n",
       "      <td>0</td>\n",
       "      <td>1.0</td>\n",
       "      <td>0.0</td>\n",
       "      <td>0.0</td>\n",
       "      <td>0.0</td>\n",
       "      <td>0.0</td>\n",
       "      <td>0.0</td>\n",
       "      <td>0.0</td>\n",
       "      <td>1.0</td>\n",
       "      <td>1.0</td>\n",
       "      <td>0.0</td>\n",
       "      <td>0.0</td>\n",
       "      <td>0.0</td>\n",
       "      <td>0.0</td>\n",
       "      <td>0.0</td>\n",
       "      <td>1.0</td>\n",
       "      <td>3.0</td>\n",
       "      <td>1.0</td>\n",
       "      <td>2.0</td>\n",
       "      <td>2.0</td>\n",
       "      <td>1.0</td>\n",
       "      <td>2.0</td>\n",
       "      <td>55 - 64 Years</td>\n",
       "      <td>&lt; 12 Years</td>\n",
       "      <td>White</td>\n",
       "      <td>Female</td>\n",
       "      <td>Below Poverty</td>\n",
       "      <td>Not Married</td>\n",
       "      <td>Own</td>\n",
       "      <td>Not in Labor Force</td>\n",
       "      <td>Non-MSA</td>\n",
       "      <td>0.0</td>\n",
       "      <td>0.0</td>\n",
       "      <td>0</td>\n",
       "    </tr>\n",
       "    <tr>\n",
       "      <th>1</th>\n",
       "      <td>1</td>\n",
       "      <td>3.0</td>\n",
       "      <td>2.0</td>\n",
       "      <td>0.0</td>\n",
       "      <td>1.0</td>\n",
       "      <td>0.0</td>\n",
       "      <td>1.0</td>\n",
       "      <td>0.0</td>\n",
       "      <td>1.0</td>\n",
       "      <td>1.0</td>\n",
       "      <td>0.0</td>\n",
       "      <td>0.0</td>\n",
       "      <td>0.0</td>\n",
       "      <td>0.0</td>\n",
       "      <td>0.0</td>\n",
       "      <td>1.0</td>\n",
       "      <td>5.0</td>\n",
       "      <td>4.0</td>\n",
       "      <td>4.0</td>\n",
       "      <td>4.0</td>\n",
       "      <td>2.0</td>\n",
       "      <td>4.0</td>\n",
       "      <td>35 - 44 Years</td>\n",
       "      <td>12 Years</td>\n",
       "      <td>White</td>\n",
       "      <td>Male</td>\n",
       "      <td>Below Poverty</td>\n",
       "      <td>Not Married</td>\n",
       "      <td>Rent</td>\n",
       "      <td>Employed</td>\n",
       "      <td>MSA, Not Principle  City</td>\n",
       "      <td>0.0</td>\n",
       "      <td>0.0</td>\n",
       "      <td>0</td>\n",
       "    </tr>\n",
       "    <tr>\n",
       "      <th>2</th>\n",
       "      <td>2</td>\n",
       "      <td>1.0</td>\n",
       "      <td>1.0</td>\n",
       "      <td>0.0</td>\n",
       "      <td>1.0</td>\n",
       "      <td>0.0</td>\n",
       "      <td>0.0</td>\n",
       "      <td>0.0</td>\n",
       "      <td>0.0</td>\n",
       "      <td>0.0</td>\n",
       "      <td>NaN</td>\n",
       "      <td>NaN</td>\n",
       "      <td>1.0</td>\n",
       "      <td>0.0</td>\n",
       "      <td>0.0</td>\n",
       "      <td>NaN</td>\n",
       "      <td>3.0</td>\n",
       "      <td>1.0</td>\n",
       "      <td>1.0</td>\n",
       "      <td>4.0</td>\n",
       "      <td>1.0</td>\n",
       "      <td>2.0</td>\n",
       "      <td>18 - 34 Years</td>\n",
       "      <td>College Graduate</td>\n",
       "      <td>White</td>\n",
       "      <td>Male</td>\n",
       "      <td>&lt;= $75,000, Above Poverty</td>\n",
       "      <td>Not Married</td>\n",
       "      <td>Own</td>\n",
       "      <td>Employed</td>\n",
       "      <td>MSA, Not Principle  City</td>\n",
       "      <td>2.0</td>\n",
       "      <td>0.0</td>\n",
       "      <td>0</td>\n",
       "    </tr>\n",
       "    <tr>\n",
       "      <th>3</th>\n",
       "      <td>3</td>\n",
       "      <td>1.0</td>\n",
       "      <td>1.0</td>\n",
       "      <td>0.0</td>\n",
       "      <td>1.0</td>\n",
       "      <td>0.0</td>\n",
       "      <td>1.0</td>\n",
       "      <td>1.0</td>\n",
       "      <td>0.0</td>\n",
       "      <td>0.0</td>\n",
       "      <td>0.0</td>\n",
       "      <td>1.0</td>\n",
       "      <td>1.0</td>\n",
       "      <td>0.0</td>\n",
       "      <td>0.0</td>\n",
       "      <td>NaN</td>\n",
       "      <td>3.0</td>\n",
       "      <td>3.0</td>\n",
       "      <td>5.0</td>\n",
       "      <td>5.0</td>\n",
       "      <td>4.0</td>\n",
       "      <td>1.0</td>\n",
       "      <td>65+ Years</td>\n",
       "      <td>12 Years</td>\n",
       "      <td>White</td>\n",
       "      <td>Female</td>\n",
       "      <td>Below Poverty</td>\n",
       "      <td>Not Married</td>\n",
       "      <td>Rent</td>\n",
       "      <td>Not in Labor Force</td>\n",
       "      <td>MSA, Principle City</td>\n",
       "      <td>0.0</td>\n",
       "      <td>0.0</td>\n",
       "      <td>0</td>\n",
       "    </tr>\n",
       "    <tr>\n",
       "      <th>4</th>\n",
       "      <td>4</td>\n",
       "      <td>2.0</td>\n",
       "      <td>1.0</td>\n",
       "      <td>0.0</td>\n",
       "      <td>1.0</td>\n",
       "      <td>0.0</td>\n",
       "      <td>1.0</td>\n",
       "      <td>1.0</td>\n",
       "      <td>0.0</td>\n",
       "      <td>1.0</td>\n",
       "      <td>0.0</td>\n",
       "      <td>0.0</td>\n",
       "      <td>0.0</td>\n",
       "      <td>0.0</td>\n",
       "      <td>0.0</td>\n",
       "      <td>NaN</td>\n",
       "      <td>3.0</td>\n",
       "      <td>3.0</td>\n",
       "      <td>2.0</td>\n",
       "      <td>3.0</td>\n",
       "      <td>1.0</td>\n",
       "      <td>4.0</td>\n",
       "      <td>45 - 54 Years</td>\n",
       "      <td>Some College</td>\n",
       "      <td>White</td>\n",
       "      <td>Female</td>\n",
       "      <td>&lt;= $75,000, Above Poverty</td>\n",
       "      <td>Married</td>\n",
       "      <td>Own</td>\n",
       "      <td>Employed</td>\n",
       "      <td>MSA, Not Principle  City</td>\n",
       "      <td>1.0</td>\n",
       "      <td>0.0</td>\n",
       "      <td>0</td>\n",
       "    </tr>\n",
       "  </tbody>\n",
       "</table>\n",
       "</div>"
      ],
      "text/plain": [
       "   unique_id  h1n1_worry  h1n1_awareness  antiviral_medication  contact_avoidance  \\\n",
       "0          0         1.0             0.0                   0.0                0.0   \n",
       "1          1         3.0             2.0                   0.0                1.0   \n",
       "2          2         1.0             1.0                   0.0                1.0   \n",
       "3          3         1.0             1.0                   0.0                1.0   \n",
       "4          4         2.0             1.0                   0.0                1.0   \n",
       "\n",
       "   bought_face_mask  wash_hands_frequently  avoid_large_gatherings  reduced_outside_home_cont  \\\n",
       "0               0.0                    0.0                     0.0                        1.0   \n",
       "1               0.0                    1.0                     0.0                        1.0   \n",
       "2               0.0                    0.0                     0.0                        0.0   \n",
       "3               0.0                    1.0                     1.0                        0.0   \n",
       "4               0.0                    1.0                     1.0                        0.0   \n",
       "\n",
       "   avoid_touch_face  dr_recc_h1n1_vacc  dr_recc_seasonal_vacc  chronic_medic_condition  \\\n",
       "0               1.0                0.0                    0.0                      0.0   \n",
       "1               1.0                0.0                    0.0                      0.0   \n",
       "2               0.0                NaN                    NaN                      1.0   \n",
       "3               0.0                0.0                    1.0                      1.0   \n",
       "4               1.0                0.0                    0.0                      0.0   \n",
       "\n",
       "   cont_child_undr_6_mnths  is_health_worker  has_health_insur  is_h1n1_vacc_effective  \\\n",
       "0                      0.0               0.0               1.0                     3.0   \n",
       "1                      0.0               0.0               1.0                     5.0   \n",
       "2                      0.0               0.0               NaN                     3.0   \n",
       "3                      0.0               0.0               NaN                     3.0   \n",
       "4                      0.0               0.0               NaN                     3.0   \n",
       "\n",
       "   is_h1n1_risky  sick_from_h1n1_vacc  is_seas_vacc_effective  is_seas_risky  sick_from_seas_vacc  \\\n",
       "0            1.0                  2.0                     2.0            1.0                  2.0   \n",
       "1            4.0                  4.0                     4.0            2.0                  4.0   \n",
       "2            1.0                  1.0                     4.0            1.0                  2.0   \n",
       "3            3.0                  5.0                     5.0            4.0                  1.0   \n",
       "4            3.0                  2.0                     3.0            1.0                  4.0   \n",
       "\n",
       "     age_bracket     qualification   race     sex               income_level marital_status  \\\n",
       "0  55 - 64 Years        < 12 Years  White  Female              Below Poverty    Not Married   \n",
       "1  35 - 44 Years          12 Years  White    Male              Below Poverty    Not Married   \n",
       "2  18 - 34 Years  College Graduate  White    Male  <= $75,000, Above Poverty    Not Married   \n",
       "3      65+ Years          12 Years  White  Female              Below Poverty    Not Married   \n",
       "4  45 - 54 Years      Some College  White  Female  <= $75,000, Above Poverty        Married   \n",
       "\n",
       "  housing_status          employment                census_msa  no_of_adults  no_of_children  \\\n",
       "0            Own  Not in Labor Force                   Non-MSA           0.0             0.0   \n",
       "1           Rent            Employed  MSA, Not Principle  City           0.0             0.0   \n",
       "2            Own            Employed  MSA, Not Principle  City           2.0             0.0   \n",
       "3           Rent  Not in Labor Force       MSA, Principle City           0.0             0.0   \n",
       "4            Own            Employed  MSA, Not Principle  City           1.0             0.0   \n",
       "\n",
       "   h1n1_vaccine  \n",
       "0             0  \n",
       "1             0  \n",
       "2             0  \n",
       "3             0  \n",
       "4             0  "
      ]
     },
     "execution_count": 6,
     "metadata": {},
     "output_type": "execute_result"
    }
   ],
   "source": [
    "# read the excel data file \n",
    "df_vaccine = pd.read_csv(r'C:\\Users\\LENOVO\\Desktop\\coaching\\Data Science\\Machine Learning\\datasets\\Vaccine usage predictions\\h1n1_vaccine_prediction.csv')\n",
    "\n",
    "# display the top 5 rows of the dataframe\n",
    "df_vaccine.head()"
   ]
  },
  {
   "cell_type": "code",
   "execution_count": 7,
   "metadata": {
    "ExecuteTime": {
     "end_time": "2021-06-22T06:04:52.692039Z",
     "start_time": "2021-06-22T06:04:52.681798Z"
    }
   },
   "outputs": [
    {
     "data": {
      "text/plain": [
       "(26707, 34)"
      ]
     },
     "execution_count": 7,
     "metadata": {},
     "output_type": "execute_result"
    }
   ],
   "source": [
    "df_vaccine.shape# we have 26k rows and 34 features"
   ]
  },
  {
   "cell_type": "markdown",
   "metadata": {},
   "source": [
    "# Data Analysis"
   ]
  },
  {
   "cell_type": "markdown",
   "metadata": {},
   "source": [
    "## Data type check"
   ]
  },
  {
   "cell_type": "code",
   "execution_count": 8,
   "metadata": {
    "ExecuteTime": {
     "end_time": "2021-06-22T06:04:52.723305Z",
     "start_time": "2021-06-22T06:04:52.695213Z"
    }
   },
   "outputs": [
    {
     "data": {
      "text/plain": [
       "unique_id                      int64\n",
       "h1n1_worry                   float64\n",
       "h1n1_awareness               float64\n",
       "antiviral_medication         float64\n",
       "contact_avoidance            float64\n",
       "bought_face_mask             float64\n",
       "wash_hands_frequently        float64\n",
       "avoid_large_gatherings       float64\n",
       "reduced_outside_home_cont    float64\n",
       "avoid_touch_face             float64\n",
       "dr_recc_h1n1_vacc            float64\n",
       "dr_recc_seasonal_vacc        float64\n",
       "chronic_medic_condition      float64\n",
       "cont_child_undr_6_mnths      float64\n",
       "is_health_worker             float64\n",
       "has_health_insur             float64\n",
       "is_h1n1_vacc_effective       float64\n",
       "is_h1n1_risky                float64\n",
       "sick_from_h1n1_vacc          float64\n",
       "is_seas_vacc_effective       float64\n",
       "is_seas_risky                float64\n",
       "sick_from_seas_vacc          float64\n",
       "age_bracket                   object\n",
       "qualification                 object\n",
       "race                          object\n",
       "sex                           object\n",
       "income_level                  object\n",
       "marital_status                object\n",
       "housing_status                object\n",
       "employment                    object\n",
       "census_msa                    object\n",
       "no_of_adults                 float64\n",
       "no_of_children               float64\n",
       "h1n1_vaccine                   int64\n",
       "dtype: object"
      ]
     },
     "execution_count": 8,
     "metadata": {},
     "output_type": "execute_result"
    }
   ],
   "source": [
    "df_vaccine.dtypes"
   ]
  },
  {
   "cell_type": "markdown",
   "metadata": {
    "ExecuteTime": {
     "end_time": "2021-06-22T04:08:49.632005Z",
     "start_time": "2021-06-22T04:08:49.625237Z"
    }
   },
   "source": [
    "A lot of variables are of different data types"
   ]
  },
  {
   "cell_type": "code",
   "execution_count": 9,
   "metadata": {
    "ExecuteTime": {
     "end_time": "2021-06-22T06:04:52.737780Z",
     "start_time": "2021-06-22T06:04:52.728306Z"
    }
   },
   "outputs": [],
   "source": [
    "### Lets fix the data type"
   ]
  },
  {
   "cell_type": "code",
   "execution_count": 10,
   "metadata": {
    "ExecuteTime": {
     "end_time": "2021-06-22T06:04:52.829768Z",
     "start_time": "2021-06-22T06:04:52.739524Z"
    }
   },
   "outputs": [],
   "source": [
    "# use 'for' loop to change the data type of variables \n",
    "for col in ['h1n1_worry','h1n1_awareness', 'antiviral_medication', 'contact_avoidance', 'bought_face_mask',\n",
    "            'wash_hands_frequently', 'avoid_large_gatherings', 'reduced_outside_home_cont', 'avoid_touch_face', \n",
    "            'dr_recc_h1n1_vacc', 'dr_recc_seasonal_vacc', 'chronic_medic_condition','cont_child_undr_6_mnths',\n",
    "           'is_health_worker', 'has_health_insur', 'is_h1n1_vacc_effective', 'is_h1n1_risky', 'sick_from_h1n1_vacc', \n",
    "            'is_seas_vacc_effective', 'is_seas_risky', 'sick_from_seas_vacc', 'no_of_adults', 'no_of_children',\n",
    "           'h1n1_vaccine']:\n",
    "\n",
    "    # use .astype() to change the data type\n",
    "    df_vaccine[col] = df_vaccine[col].astype('object')"
   ]
  },
  {
   "cell_type": "code",
   "execution_count": 11,
   "metadata": {
    "ExecuteTime": {
     "end_time": "2021-06-22T06:04:52.890080Z",
     "start_time": "2021-06-22T06:04:52.831747Z"
    }
   },
   "outputs": [
    {
     "data": {
      "text/html": [
       "<div>\n",
       "<style scoped>\n",
       "    .dataframe tbody tr th:only-of-type {\n",
       "        vertical-align: middle;\n",
       "    }\n",
       "\n",
       "    .dataframe tbody tr th {\n",
       "        vertical-align: top;\n",
       "    }\n",
       "\n",
       "    .dataframe thead th {\n",
       "        text-align: right;\n",
       "    }\n",
       "</style>\n",
       "<table border=\"1\" class=\"dataframe\">\n",
       "  <thead>\n",
       "    <tr style=\"text-align: right;\">\n",
       "      <th></th>\n",
       "      <th>unique_id</th>\n",
       "      <th>h1n1_worry</th>\n",
       "      <th>h1n1_awareness</th>\n",
       "      <th>antiviral_medication</th>\n",
       "      <th>contact_avoidance</th>\n",
       "      <th>bought_face_mask</th>\n",
       "      <th>wash_hands_frequently</th>\n",
       "      <th>avoid_large_gatherings</th>\n",
       "      <th>reduced_outside_home_cont</th>\n",
       "      <th>avoid_touch_face</th>\n",
       "      <th>dr_recc_h1n1_vacc</th>\n",
       "      <th>dr_recc_seasonal_vacc</th>\n",
       "      <th>chronic_medic_condition</th>\n",
       "      <th>cont_child_undr_6_mnths</th>\n",
       "      <th>is_health_worker</th>\n",
       "      <th>has_health_insur</th>\n",
       "      <th>is_h1n1_vacc_effective</th>\n",
       "      <th>is_h1n1_risky</th>\n",
       "      <th>sick_from_h1n1_vacc</th>\n",
       "      <th>is_seas_vacc_effective</th>\n",
       "      <th>is_seas_risky</th>\n",
       "      <th>sick_from_seas_vacc</th>\n",
       "      <th>age_bracket</th>\n",
       "      <th>qualification</th>\n",
       "      <th>race</th>\n",
       "      <th>sex</th>\n",
       "      <th>income_level</th>\n",
       "      <th>marital_status</th>\n",
       "      <th>housing_status</th>\n",
       "      <th>employment</th>\n",
       "      <th>census_msa</th>\n",
       "      <th>no_of_adults</th>\n",
       "      <th>no_of_children</th>\n",
       "      <th>h1n1_vaccine</th>\n",
       "    </tr>\n",
       "  </thead>\n",
       "  <tbody>\n",
       "    <tr>\n",
       "      <th>0</th>\n",
       "      <td>0</td>\n",
       "      <td>1</td>\n",
       "      <td>0</td>\n",
       "      <td>0</td>\n",
       "      <td>0</td>\n",
       "      <td>0</td>\n",
       "      <td>0</td>\n",
       "      <td>0</td>\n",
       "      <td>1</td>\n",
       "      <td>1</td>\n",
       "      <td>0</td>\n",
       "      <td>0</td>\n",
       "      <td>0</td>\n",
       "      <td>0</td>\n",
       "      <td>0</td>\n",
       "      <td>1</td>\n",
       "      <td>3</td>\n",
       "      <td>1</td>\n",
       "      <td>2</td>\n",
       "      <td>2</td>\n",
       "      <td>1</td>\n",
       "      <td>2</td>\n",
       "      <td>55 - 64 Years</td>\n",
       "      <td>&lt; 12 Years</td>\n",
       "      <td>White</td>\n",
       "      <td>Female</td>\n",
       "      <td>Below Poverty</td>\n",
       "      <td>Not Married</td>\n",
       "      <td>Own</td>\n",
       "      <td>Not in Labor Force</td>\n",
       "      <td>Non-MSA</td>\n",
       "      <td>0</td>\n",
       "      <td>0</td>\n",
       "      <td>0</td>\n",
       "    </tr>\n",
       "    <tr>\n",
       "      <th>1</th>\n",
       "      <td>1</td>\n",
       "      <td>3</td>\n",
       "      <td>2</td>\n",
       "      <td>0</td>\n",
       "      <td>1</td>\n",
       "      <td>0</td>\n",
       "      <td>1</td>\n",
       "      <td>0</td>\n",
       "      <td>1</td>\n",
       "      <td>1</td>\n",
       "      <td>0</td>\n",
       "      <td>0</td>\n",
       "      <td>0</td>\n",
       "      <td>0</td>\n",
       "      <td>0</td>\n",
       "      <td>1</td>\n",
       "      <td>5</td>\n",
       "      <td>4</td>\n",
       "      <td>4</td>\n",
       "      <td>4</td>\n",
       "      <td>2</td>\n",
       "      <td>4</td>\n",
       "      <td>35 - 44 Years</td>\n",
       "      <td>12 Years</td>\n",
       "      <td>White</td>\n",
       "      <td>Male</td>\n",
       "      <td>Below Poverty</td>\n",
       "      <td>Not Married</td>\n",
       "      <td>Rent</td>\n",
       "      <td>Employed</td>\n",
       "      <td>MSA, Not Principle  City</td>\n",
       "      <td>0</td>\n",
       "      <td>0</td>\n",
       "      <td>0</td>\n",
       "    </tr>\n",
       "    <tr>\n",
       "      <th>2</th>\n",
       "      <td>2</td>\n",
       "      <td>1</td>\n",
       "      <td>1</td>\n",
       "      <td>0</td>\n",
       "      <td>1</td>\n",
       "      <td>0</td>\n",
       "      <td>0</td>\n",
       "      <td>0</td>\n",
       "      <td>0</td>\n",
       "      <td>0</td>\n",
       "      <td>NaN</td>\n",
       "      <td>NaN</td>\n",
       "      <td>1</td>\n",
       "      <td>0</td>\n",
       "      <td>0</td>\n",
       "      <td>NaN</td>\n",
       "      <td>3</td>\n",
       "      <td>1</td>\n",
       "      <td>1</td>\n",
       "      <td>4</td>\n",
       "      <td>1</td>\n",
       "      <td>2</td>\n",
       "      <td>18 - 34 Years</td>\n",
       "      <td>College Graduate</td>\n",
       "      <td>White</td>\n",
       "      <td>Male</td>\n",
       "      <td>&lt;= $75,000, Above Poverty</td>\n",
       "      <td>Not Married</td>\n",
       "      <td>Own</td>\n",
       "      <td>Employed</td>\n",
       "      <td>MSA, Not Principle  City</td>\n",
       "      <td>2</td>\n",
       "      <td>0</td>\n",
       "      <td>0</td>\n",
       "    </tr>\n",
       "    <tr>\n",
       "      <th>3</th>\n",
       "      <td>3</td>\n",
       "      <td>1</td>\n",
       "      <td>1</td>\n",
       "      <td>0</td>\n",
       "      <td>1</td>\n",
       "      <td>0</td>\n",
       "      <td>1</td>\n",
       "      <td>1</td>\n",
       "      <td>0</td>\n",
       "      <td>0</td>\n",
       "      <td>0</td>\n",
       "      <td>1</td>\n",
       "      <td>1</td>\n",
       "      <td>0</td>\n",
       "      <td>0</td>\n",
       "      <td>NaN</td>\n",
       "      <td>3</td>\n",
       "      <td>3</td>\n",
       "      <td>5</td>\n",
       "      <td>5</td>\n",
       "      <td>4</td>\n",
       "      <td>1</td>\n",
       "      <td>65+ Years</td>\n",
       "      <td>12 Years</td>\n",
       "      <td>White</td>\n",
       "      <td>Female</td>\n",
       "      <td>Below Poverty</td>\n",
       "      <td>Not Married</td>\n",
       "      <td>Rent</td>\n",
       "      <td>Not in Labor Force</td>\n",
       "      <td>MSA, Principle City</td>\n",
       "      <td>0</td>\n",
       "      <td>0</td>\n",
       "      <td>0</td>\n",
       "    </tr>\n",
       "    <tr>\n",
       "      <th>4</th>\n",
       "      <td>4</td>\n",
       "      <td>2</td>\n",
       "      <td>1</td>\n",
       "      <td>0</td>\n",
       "      <td>1</td>\n",
       "      <td>0</td>\n",
       "      <td>1</td>\n",
       "      <td>1</td>\n",
       "      <td>0</td>\n",
       "      <td>1</td>\n",
       "      <td>0</td>\n",
       "      <td>0</td>\n",
       "      <td>0</td>\n",
       "      <td>0</td>\n",
       "      <td>0</td>\n",
       "      <td>NaN</td>\n",
       "      <td>3</td>\n",
       "      <td>3</td>\n",
       "      <td>2</td>\n",
       "      <td>3</td>\n",
       "      <td>1</td>\n",
       "      <td>4</td>\n",
       "      <td>45 - 54 Years</td>\n",
       "      <td>Some College</td>\n",
       "      <td>White</td>\n",
       "      <td>Female</td>\n",
       "      <td>&lt;= $75,000, Above Poverty</td>\n",
       "      <td>Married</td>\n",
       "      <td>Own</td>\n",
       "      <td>Employed</td>\n",
       "      <td>MSA, Not Principle  City</td>\n",
       "      <td>1</td>\n",
       "      <td>0</td>\n",
       "      <td>0</td>\n",
       "    </tr>\n",
       "    <tr>\n",
       "      <th>...</th>\n",
       "      <td>...</td>\n",
       "      <td>...</td>\n",
       "      <td>...</td>\n",
       "      <td>...</td>\n",
       "      <td>...</td>\n",
       "      <td>...</td>\n",
       "      <td>...</td>\n",
       "      <td>...</td>\n",
       "      <td>...</td>\n",
       "      <td>...</td>\n",
       "      <td>...</td>\n",
       "      <td>...</td>\n",
       "      <td>...</td>\n",
       "      <td>...</td>\n",
       "      <td>...</td>\n",
       "      <td>...</td>\n",
       "      <td>...</td>\n",
       "      <td>...</td>\n",
       "      <td>...</td>\n",
       "      <td>...</td>\n",
       "      <td>...</td>\n",
       "      <td>...</td>\n",
       "      <td>...</td>\n",
       "      <td>...</td>\n",
       "      <td>...</td>\n",
       "      <td>...</td>\n",
       "      <td>...</td>\n",
       "      <td>...</td>\n",
       "      <td>...</td>\n",
       "      <td>...</td>\n",
       "      <td>...</td>\n",
       "      <td>...</td>\n",
       "      <td>...</td>\n",
       "      <td>...</td>\n",
       "    </tr>\n",
       "    <tr>\n",
       "      <th>26702</th>\n",
       "      <td>26702</td>\n",
       "      <td>2</td>\n",
       "      <td>0</td>\n",
       "      <td>0</td>\n",
       "      <td>1</td>\n",
       "      <td>0</td>\n",
       "      <td>0</td>\n",
       "      <td>0</td>\n",
       "      <td>1</td>\n",
       "      <td>0</td>\n",
       "      <td>0</td>\n",
       "      <td>0</td>\n",
       "      <td>0</td>\n",
       "      <td>0</td>\n",
       "      <td>0</td>\n",
       "      <td>NaN</td>\n",
       "      <td>3</td>\n",
       "      <td>1</td>\n",
       "      <td>1</td>\n",
       "      <td>5</td>\n",
       "      <td>2</td>\n",
       "      <td>2</td>\n",
       "      <td>65+ Years</td>\n",
       "      <td>Some College</td>\n",
       "      <td>White</td>\n",
       "      <td>Female</td>\n",
       "      <td>&lt;= $75,000, Above Poverty</td>\n",
       "      <td>Not Married</td>\n",
       "      <td>Own</td>\n",
       "      <td>Not in Labor Force</td>\n",
       "      <td>Non-MSA</td>\n",
       "      <td>0</td>\n",
       "      <td>0</td>\n",
       "      <td>0</td>\n",
       "    </tr>\n",
       "    <tr>\n",
       "      <th>26703</th>\n",
       "      <td>26703</td>\n",
       "      <td>1</td>\n",
       "      <td>2</td>\n",
       "      <td>0</td>\n",
       "      <td>1</td>\n",
       "      <td>0</td>\n",
       "      <td>1</td>\n",
       "      <td>0</td>\n",
       "      <td>0</td>\n",
       "      <td>0</td>\n",
       "      <td>1</td>\n",
       "      <td>1</td>\n",
       "      <td>0</td>\n",
       "      <td>0</td>\n",
       "      <td>1</td>\n",
       "      <td>1</td>\n",
       "      <td>4</td>\n",
       "      <td>2</td>\n",
       "      <td>2</td>\n",
       "      <td>5</td>\n",
       "      <td>1</td>\n",
       "      <td>1</td>\n",
       "      <td>18 - 34 Years</td>\n",
       "      <td>College Graduate</td>\n",
       "      <td>White</td>\n",
       "      <td>Male</td>\n",
       "      <td>&lt;= $75,000, Above Poverty</td>\n",
       "      <td>Not Married</td>\n",
       "      <td>Rent</td>\n",
       "      <td>Employed</td>\n",
       "      <td>MSA, Principle City</td>\n",
       "      <td>1</td>\n",
       "      <td>0</td>\n",
       "      <td>0</td>\n",
       "    </tr>\n",
       "    <tr>\n",
       "      <th>26704</th>\n",
       "      <td>26704</td>\n",
       "      <td>2</td>\n",
       "      <td>2</td>\n",
       "      <td>0</td>\n",
       "      <td>1</td>\n",
       "      <td>1</td>\n",
       "      <td>1</td>\n",
       "      <td>1</td>\n",
       "      <td>0</td>\n",
       "      <td>1</td>\n",
       "      <td>0</td>\n",
       "      <td>0</td>\n",
       "      <td>0</td>\n",
       "      <td>0</td>\n",
       "      <td>0</td>\n",
       "      <td>NaN</td>\n",
       "      <td>4</td>\n",
       "      <td>4</td>\n",
       "      <td>2</td>\n",
       "      <td>5</td>\n",
       "      <td>4</td>\n",
       "      <td>2</td>\n",
       "      <td>55 - 64 Years</td>\n",
       "      <td>Some College</td>\n",
       "      <td>White</td>\n",
       "      <td>Female</td>\n",
       "      <td>NaN</td>\n",
       "      <td>Not Married</td>\n",
       "      <td>Own</td>\n",
       "      <td>NaN</td>\n",
       "      <td>MSA, Not Principle  City</td>\n",
       "      <td>0</td>\n",
       "      <td>0</td>\n",
       "      <td>0</td>\n",
       "    </tr>\n",
       "    <tr>\n",
       "      <th>26705</th>\n",
       "      <td>26705</td>\n",
       "      <td>1</td>\n",
       "      <td>1</td>\n",
       "      <td>0</td>\n",
       "      <td>0</td>\n",
       "      <td>0</td>\n",
       "      <td>0</td>\n",
       "      <td>0</td>\n",
       "      <td>0</td>\n",
       "      <td>NaN</td>\n",
       "      <td>0</td>\n",
       "      <td>0</td>\n",
       "      <td>0</td>\n",
       "      <td>0</td>\n",
       "      <td>0</td>\n",
       "      <td>0</td>\n",
       "      <td>3</td>\n",
       "      <td>1</td>\n",
       "      <td>2</td>\n",
       "      <td>2</td>\n",
       "      <td>1</td>\n",
       "      <td>2</td>\n",
       "      <td>18 - 34 Years</td>\n",
       "      <td>Some College</td>\n",
       "      <td>Hispanic</td>\n",
       "      <td>Female</td>\n",
       "      <td>&lt;= $75,000, Above Poverty</td>\n",
       "      <td>Married</td>\n",
       "      <td>Rent</td>\n",
       "      <td>Employed</td>\n",
       "      <td>Non-MSA</td>\n",
       "      <td>1</td>\n",
       "      <td>0</td>\n",
       "      <td>0</td>\n",
       "    </tr>\n",
       "    <tr>\n",
       "      <th>26706</th>\n",
       "      <td>26706</td>\n",
       "      <td>0</td>\n",
       "      <td>0</td>\n",
       "      <td>0</td>\n",
       "      <td>1</td>\n",
       "      <td>0</td>\n",
       "      <td>0</td>\n",
       "      <td>0</td>\n",
       "      <td>0</td>\n",
       "      <td>0</td>\n",
       "      <td>0</td>\n",
       "      <td>0</td>\n",
       "      <td>0</td>\n",
       "      <td>0</td>\n",
       "      <td>0</td>\n",
       "      <td>1</td>\n",
       "      <td>5</td>\n",
       "      <td>1</td>\n",
       "      <td>1</td>\n",
       "      <td>5</td>\n",
       "      <td>1</td>\n",
       "      <td>1</td>\n",
       "      <td>65+ Years</td>\n",
       "      <td>Some College</td>\n",
       "      <td>White</td>\n",
       "      <td>Male</td>\n",
       "      <td>&lt;= $75,000, Above Poverty</td>\n",
       "      <td>Married</td>\n",
       "      <td>Own</td>\n",
       "      <td>Not in Labor Force</td>\n",
       "      <td>MSA, Principle City</td>\n",
       "      <td>1</td>\n",
       "      <td>0</td>\n",
       "      <td>0</td>\n",
       "    </tr>\n",
       "  </tbody>\n",
       "</table>\n",
       "<p>26707 rows × 34 columns</p>\n",
       "</div>"
      ],
      "text/plain": [
       "       unique_id h1n1_worry h1n1_awareness antiviral_medication contact_avoidance  \\\n",
       "0              0          1              0                    0                 0   \n",
       "1              1          3              2                    0                 1   \n",
       "2              2          1              1                    0                 1   \n",
       "3              3          1              1                    0                 1   \n",
       "4              4          2              1                    0                 1   \n",
       "...          ...        ...            ...                  ...               ...   \n",
       "26702      26702          2              0                    0                 1   \n",
       "26703      26703          1              2                    0                 1   \n",
       "26704      26704          2              2                    0                 1   \n",
       "26705      26705          1              1                    0                 0   \n",
       "26706      26706          0              0                    0                 1   \n",
       "\n",
       "      bought_face_mask wash_hands_frequently avoid_large_gatherings reduced_outside_home_cont  \\\n",
       "0                    0                     0                      0                         1   \n",
       "1                    0                     1                      0                         1   \n",
       "2                    0                     0                      0                         0   \n",
       "3                    0                     1                      1                         0   \n",
       "4                    0                     1                      1                         0   \n",
       "...                ...                   ...                    ...                       ...   \n",
       "26702                0                     0                      0                         1   \n",
       "26703                0                     1                      0                         0   \n",
       "26704                1                     1                      1                         0   \n",
       "26705                0                     0                      0                         0   \n",
       "26706                0                     0                      0                         0   \n",
       "\n",
       "      avoid_touch_face dr_recc_h1n1_vacc dr_recc_seasonal_vacc chronic_medic_condition  \\\n",
       "0                    1                 0                     0                       0   \n",
       "1                    1                 0                     0                       0   \n",
       "2                    0               NaN                   NaN                       1   \n",
       "3                    0                 0                     1                       1   \n",
       "4                    1                 0                     0                       0   \n",
       "...                ...               ...                   ...                     ...   \n",
       "26702                0                 0                     0                       0   \n",
       "26703                0                 1                     1                       0   \n",
       "26704                1                 0                     0                       0   \n",
       "26705              NaN                 0                     0                       0   \n",
       "26706                0                 0                     0                       0   \n",
       "\n",
       "      cont_child_undr_6_mnths is_health_worker has_health_insur is_h1n1_vacc_effective  \\\n",
       "0                           0                0                1                      3   \n",
       "1                           0                0                1                      5   \n",
       "2                           0                0              NaN                      3   \n",
       "3                           0                0              NaN                      3   \n",
       "4                           0                0              NaN                      3   \n",
       "...                       ...              ...              ...                    ...   \n",
       "26702                       0                0              NaN                      3   \n",
       "26703                       0                1                1                      4   \n",
       "26704                       0                0              NaN                      4   \n",
       "26705                       0                0                0                      3   \n",
       "26706                       0                0                1                      5   \n",
       "\n",
       "      is_h1n1_risky sick_from_h1n1_vacc is_seas_vacc_effective is_seas_risky sick_from_seas_vacc  \\\n",
       "0                 1                   2                      2             1                   2   \n",
       "1                 4                   4                      4             2                   4   \n",
       "2                 1                   1                      4             1                   2   \n",
       "3                 3                   5                      5             4                   1   \n",
       "4                 3                   2                      3             1                   4   \n",
       "...             ...                 ...                    ...           ...                 ...   \n",
       "26702             1                   1                      5             2                   2   \n",
       "26703             2                   2                      5             1                   1   \n",
       "26704             4                   2                      5             4                   2   \n",
       "26705             1                   2                      2             1                   2   \n",
       "26706             1                   1                      5             1                   1   \n",
       "\n",
       "         age_bracket     qualification      race     sex               income_level  \\\n",
       "0      55 - 64 Years        < 12 Years     White  Female              Below Poverty   \n",
       "1      35 - 44 Years          12 Years     White    Male              Below Poverty   \n",
       "2      18 - 34 Years  College Graduate     White    Male  <= $75,000, Above Poverty   \n",
       "3          65+ Years          12 Years     White  Female              Below Poverty   \n",
       "4      45 - 54 Years      Some College     White  Female  <= $75,000, Above Poverty   \n",
       "...              ...               ...       ...     ...                        ...   \n",
       "26702      65+ Years      Some College     White  Female  <= $75,000, Above Poverty   \n",
       "26703  18 - 34 Years  College Graduate     White    Male  <= $75,000, Above Poverty   \n",
       "26704  55 - 64 Years      Some College     White  Female                        NaN   \n",
       "26705  18 - 34 Years      Some College  Hispanic  Female  <= $75,000, Above Poverty   \n",
       "26706      65+ Years      Some College     White    Male  <= $75,000, Above Poverty   \n",
       "\n",
       "      marital_status housing_status          employment                census_msa no_of_adults  \\\n",
       "0        Not Married            Own  Not in Labor Force                   Non-MSA            0   \n",
       "1        Not Married           Rent            Employed  MSA, Not Principle  City            0   \n",
       "2        Not Married            Own            Employed  MSA, Not Principle  City            2   \n",
       "3        Not Married           Rent  Not in Labor Force       MSA, Principle City            0   \n",
       "4            Married            Own            Employed  MSA, Not Principle  City            1   \n",
       "...              ...            ...                 ...                       ...          ...   \n",
       "26702    Not Married            Own  Not in Labor Force                   Non-MSA            0   \n",
       "26703    Not Married           Rent            Employed       MSA, Principle City            1   \n",
       "26704    Not Married            Own                 NaN  MSA, Not Principle  City            0   \n",
       "26705        Married           Rent            Employed                   Non-MSA            1   \n",
       "26706        Married            Own  Not in Labor Force       MSA, Principle City            1   \n",
       "\n",
       "      no_of_children h1n1_vaccine  \n",
       "0                  0            0  \n",
       "1                  0            0  \n",
       "2                  0            0  \n",
       "3                  0            0  \n",
       "4                  0            0  \n",
       "...              ...          ...  \n",
       "26702              0            0  \n",
       "26703              0            0  \n",
       "26704              0            0  \n",
       "26705              0            0  \n",
       "26706              0            0  \n",
       "\n",
       "[26707 rows x 34 columns]"
      ]
     },
     "execution_count": 11,
     "metadata": {},
     "output_type": "execute_result"
    }
   ],
   "source": [
    "df_vaccine"
   ]
  },
  {
   "cell_type": "code",
   "execution_count": 12,
   "metadata": {
    "ExecuteTime": {
     "end_time": "2021-06-22T06:04:52.967146Z",
     "start_time": "2021-06-22T06:04:52.892992Z"
    }
   },
   "outputs": [
    {
     "name": "stdout",
     "output_type": "stream",
     "text": [
      "<class 'pandas.core.frame.DataFrame'>\n",
      "RangeIndex: 26707 entries, 0 to 26706\n",
      "Data columns (total 34 columns):\n",
      " #   Column                     Non-Null Count  Dtype \n",
      "---  ------                     --------------  ----- \n",
      " 0   unique_id                  26707 non-null  int64 \n",
      " 1   h1n1_worry                 26615 non-null  object\n",
      " 2   h1n1_awareness             26591 non-null  object\n",
      " 3   antiviral_medication       26636 non-null  object\n",
      " 4   contact_avoidance          26499 non-null  object\n",
      " 5   bought_face_mask           26688 non-null  object\n",
      " 6   wash_hands_frequently      26665 non-null  object\n",
      " 7   avoid_large_gatherings     26620 non-null  object\n",
      " 8   reduced_outside_home_cont  26625 non-null  object\n",
      " 9   avoid_touch_face           26579 non-null  object\n",
      " 10  dr_recc_h1n1_vacc          24547 non-null  object\n",
      " 11  dr_recc_seasonal_vacc      24547 non-null  object\n",
      " 12  chronic_medic_condition    25736 non-null  object\n",
      " 13  cont_child_undr_6_mnths    25887 non-null  object\n",
      " 14  is_health_worker           25903 non-null  object\n",
      " 15  has_health_insur           14433 non-null  object\n",
      " 16  is_h1n1_vacc_effective     26316 non-null  object\n",
      " 17  is_h1n1_risky              26319 non-null  object\n",
      " 18  sick_from_h1n1_vacc        26312 non-null  object\n",
      " 19  is_seas_vacc_effective     26245 non-null  object\n",
      " 20  is_seas_risky              26193 non-null  object\n",
      " 21  sick_from_seas_vacc        26170 non-null  object\n",
      " 22  age_bracket                26707 non-null  object\n",
      " 23  qualification              25300 non-null  object\n",
      " 24  race                       26707 non-null  object\n",
      " 25  sex                        26707 non-null  object\n",
      " 26  income_level               22284 non-null  object\n",
      " 27  marital_status             25299 non-null  object\n",
      " 28  housing_status             24665 non-null  object\n",
      " 29  employment                 25244 non-null  object\n",
      " 30  census_msa                 26707 non-null  object\n",
      " 31  no_of_adults               26458 non-null  object\n",
      " 32  no_of_children             26458 non-null  object\n",
      " 33  h1n1_vaccine               26707 non-null  object\n",
      "dtypes: int64(1), object(33)\n",
      "memory usage: 6.9+ MB\n"
     ]
    }
   ],
   "source": [
    "df_vaccine.info()"
   ]
  },
  {
   "cell_type": "markdown",
   "metadata": {
    "ExecuteTime": {
     "end_time": "2021-06-22T05:24:42.795952Z",
     "start_time": "2021-06-22T05:24:42.766409Z"
    }
   },
   "source": [
    "The data has a lot of null values, so lets try to handle them individually"
   ]
  },
  {
   "cell_type": "markdown",
   "metadata": {},
   "source": [
    "## Summary Stats"
   ]
  },
  {
   "cell_type": "code",
   "execution_count": 13,
   "metadata": {
    "ExecuteTime": {
     "end_time": "2021-06-22T06:04:52.998290Z",
     "start_time": "2021-06-22T06:04:52.970637Z"
    }
   },
   "outputs": [
    {
     "data": {
      "text/html": [
       "<div>\n",
       "<style scoped>\n",
       "    .dataframe tbody tr th:only-of-type {\n",
       "        vertical-align: middle;\n",
       "    }\n",
       "\n",
       "    .dataframe tbody tr th {\n",
       "        vertical-align: top;\n",
       "    }\n",
       "\n",
       "    .dataframe thead th {\n",
       "        text-align: right;\n",
       "    }\n",
       "</style>\n",
       "<table border=\"1\" class=\"dataframe\">\n",
       "  <thead>\n",
       "    <tr style=\"text-align: right;\">\n",
       "      <th></th>\n",
       "      <th>unique_id</th>\n",
       "    </tr>\n",
       "  </thead>\n",
       "  <tbody>\n",
       "    <tr>\n",
       "      <th>count</th>\n",
       "      <td>26707.000000</td>\n",
       "    </tr>\n",
       "    <tr>\n",
       "      <th>mean</th>\n",
       "      <td>13353.000000</td>\n",
       "    </tr>\n",
       "    <tr>\n",
       "      <th>std</th>\n",
       "      <td>7709.791156</td>\n",
       "    </tr>\n",
       "    <tr>\n",
       "      <th>min</th>\n",
       "      <td>0.000000</td>\n",
       "    </tr>\n",
       "    <tr>\n",
       "      <th>25%</th>\n",
       "      <td>6676.500000</td>\n",
       "    </tr>\n",
       "    <tr>\n",
       "      <th>50%</th>\n",
       "      <td>13353.000000</td>\n",
       "    </tr>\n",
       "    <tr>\n",
       "      <th>75%</th>\n",
       "      <td>20029.500000</td>\n",
       "    </tr>\n",
       "    <tr>\n",
       "      <th>max</th>\n",
       "      <td>26706.000000</td>\n",
       "    </tr>\n",
       "  </tbody>\n",
       "</table>\n",
       "</div>"
      ],
      "text/plain": [
       "          unique_id\n",
       "count  26707.000000\n",
       "mean   13353.000000\n",
       "std     7709.791156\n",
       "min        0.000000\n",
       "25%     6676.500000\n",
       "50%    13353.000000\n",
       "75%    20029.500000\n",
       "max    26706.000000"
      ]
     },
     "execution_count": 13,
     "metadata": {},
     "output_type": "execute_result"
    }
   ],
   "source": [
    "#Only one numeric variable of no use\n",
    "df_vaccine.describe()"
   ]
  },
  {
   "cell_type": "code",
   "execution_count": 14,
   "metadata": {
    "ExecuteTime": {
     "end_time": "2021-06-22T06:04:53.230140Z",
     "start_time": "2021-06-22T06:04:53.001306Z"
    }
   },
   "outputs": [
    {
     "data": {
      "text/html": [
       "<div>\n",
       "<style scoped>\n",
       "    .dataframe tbody tr th:only-of-type {\n",
       "        vertical-align: middle;\n",
       "    }\n",
       "\n",
       "    .dataframe tbody tr th {\n",
       "        vertical-align: top;\n",
       "    }\n",
       "\n",
       "    .dataframe thead th {\n",
       "        text-align: right;\n",
       "    }\n",
       "</style>\n",
       "<table border=\"1\" class=\"dataframe\">\n",
       "  <thead>\n",
       "    <tr style=\"text-align: right;\">\n",
       "      <th></th>\n",
       "      <th>h1n1_worry</th>\n",
       "      <th>h1n1_awareness</th>\n",
       "      <th>antiviral_medication</th>\n",
       "      <th>contact_avoidance</th>\n",
       "      <th>bought_face_mask</th>\n",
       "      <th>wash_hands_frequently</th>\n",
       "      <th>avoid_large_gatherings</th>\n",
       "      <th>reduced_outside_home_cont</th>\n",
       "      <th>avoid_touch_face</th>\n",
       "      <th>dr_recc_h1n1_vacc</th>\n",
       "      <th>dr_recc_seasonal_vacc</th>\n",
       "      <th>chronic_medic_condition</th>\n",
       "      <th>cont_child_undr_6_mnths</th>\n",
       "      <th>is_health_worker</th>\n",
       "      <th>has_health_insur</th>\n",
       "      <th>is_h1n1_vacc_effective</th>\n",
       "      <th>is_h1n1_risky</th>\n",
       "      <th>sick_from_h1n1_vacc</th>\n",
       "      <th>is_seas_vacc_effective</th>\n",
       "      <th>is_seas_risky</th>\n",
       "      <th>sick_from_seas_vacc</th>\n",
       "      <th>age_bracket</th>\n",
       "      <th>qualification</th>\n",
       "      <th>race</th>\n",
       "      <th>sex</th>\n",
       "      <th>income_level</th>\n",
       "      <th>marital_status</th>\n",
       "      <th>housing_status</th>\n",
       "      <th>employment</th>\n",
       "      <th>census_msa</th>\n",
       "      <th>no_of_adults</th>\n",
       "      <th>no_of_children</th>\n",
       "      <th>h1n1_vaccine</th>\n",
       "    </tr>\n",
       "  </thead>\n",
       "  <tbody>\n",
       "    <tr>\n",
       "      <th>count</th>\n",
       "      <td>26615.0</td>\n",
       "      <td>26591.0</td>\n",
       "      <td>26636.0</td>\n",
       "      <td>26499.0</td>\n",
       "      <td>26688.0</td>\n",
       "      <td>26665.0</td>\n",
       "      <td>26620.0</td>\n",
       "      <td>26625.0</td>\n",
       "      <td>26579.0</td>\n",
       "      <td>24547.0</td>\n",
       "      <td>24547.0</td>\n",
       "      <td>25736.0</td>\n",
       "      <td>25887.0</td>\n",
       "      <td>25903.0</td>\n",
       "      <td>14433.0</td>\n",
       "      <td>26316.0</td>\n",
       "      <td>26319.0</td>\n",
       "      <td>26312.0</td>\n",
       "      <td>26245.0</td>\n",
       "      <td>26193.0</td>\n",
       "      <td>26170.0</td>\n",
       "      <td>26707</td>\n",
       "      <td>25300</td>\n",
       "      <td>26707</td>\n",
       "      <td>26707</td>\n",
       "      <td>22284</td>\n",
       "      <td>25299</td>\n",
       "      <td>24665</td>\n",
       "      <td>25244</td>\n",
       "      <td>26707</td>\n",
       "      <td>26458.0</td>\n",
       "      <td>26458.0</td>\n",
       "      <td>26707</td>\n",
       "    </tr>\n",
       "    <tr>\n",
       "      <th>unique</th>\n",
       "      <td>4.0</td>\n",
       "      <td>3.0</td>\n",
       "      <td>2.0</td>\n",
       "      <td>2.0</td>\n",
       "      <td>2.0</td>\n",
       "      <td>2.0</td>\n",
       "      <td>2.0</td>\n",
       "      <td>2.0</td>\n",
       "      <td>2.0</td>\n",
       "      <td>2.0</td>\n",
       "      <td>2.0</td>\n",
       "      <td>2.0</td>\n",
       "      <td>2.0</td>\n",
       "      <td>2.0</td>\n",
       "      <td>2.0</td>\n",
       "      <td>5.0</td>\n",
       "      <td>5.0</td>\n",
       "      <td>5.0</td>\n",
       "      <td>5.0</td>\n",
       "      <td>5.0</td>\n",
       "      <td>5.0</td>\n",
       "      <td>5</td>\n",
       "      <td>4</td>\n",
       "      <td>4</td>\n",
       "      <td>2</td>\n",
       "      <td>3</td>\n",
       "      <td>2</td>\n",
       "      <td>2</td>\n",
       "      <td>3</td>\n",
       "      <td>3</td>\n",
       "      <td>4.0</td>\n",
       "      <td>4.0</td>\n",
       "      <td>2</td>\n",
       "    </tr>\n",
       "    <tr>\n",
       "      <th>top</th>\n",
       "      <td>2.0</td>\n",
       "      <td>1.0</td>\n",
       "      <td>0.0</td>\n",
       "      <td>1.0</td>\n",
       "      <td>0.0</td>\n",
       "      <td>1.0</td>\n",
       "      <td>0.0</td>\n",
       "      <td>0.0</td>\n",
       "      <td>1.0</td>\n",
       "      <td>0.0</td>\n",
       "      <td>0.0</td>\n",
       "      <td>0.0</td>\n",
       "      <td>0.0</td>\n",
       "      <td>0.0</td>\n",
       "      <td>1.0</td>\n",
       "      <td>4.0</td>\n",
       "      <td>2.0</td>\n",
       "      <td>2.0</td>\n",
       "      <td>4.0</td>\n",
       "      <td>2.0</td>\n",
       "      <td>1.0</td>\n",
       "      <td>65+ Years</td>\n",
       "      <td>College Graduate</td>\n",
       "      <td>White</td>\n",
       "      <td>Female</td>\n",
       "      <td>&lt;= $75,000, Above Poverty</td>\n",
       "      <td>Married</td>\n",
       "      <td>Own</td>\n",
       "      <td>Employed</td>\n",
       "      <td>MSA, Not Principle  City</td>\n",
       "      <td>1.0</td>\n",
       "      <td>0.0</td>\n",
       "      <td>0</td>\n",
       "    </tr>\n",
       "    <tr>\n",
       "      <th>freq</th>\n",
       "      <td>10575.0</td>\n",
       "      <td>14598.0</td>\n",
       "      <td>25335.0</td>\n",
       "      <td>19228.0</td>\n",
       "      <td>24847.0</td>\n",
       "      <td>22015.0</td>\n",
       "      <td>17073.0</td>\n",
       "      <td>17644.0</td>\n",
       "      <td>18001.0</td>\n",
       "      <td>19139.0</td>\n",
       "      <td>16453.0</td>\n",
       "      <td>18446.0</td>\n",
       "      <td>23749.0</td>\n",
       "      <td>23004.0</td>\n",
       "      <td>12697.0</td>\n",
       "      <td>11683.0</td>\n",
       "      <td>9919.0</td>\n",
       "      <td>9129.0</td>\n",
       "      <td>11629.0</td>\n",
       "      <td>8954.0</td>\n",
       "      <td>11870.0</td>\n",
       "      <td>6843</td>\n",
       "      <td>10097</td>\n",
       "      <td>21222</td>\n",
       "      <td>15858</td>\n",
       "      <td>12777</td>\n",
       "      <td>13555</td>\n",
       "      <td>18736</td>\n",
       "      <td>13560</td>\n",
       "      <td>11645</td>\n",
       "      <td>14474.0</td>\n",
       "      <td>18672.0</td>\n",
       "      <td>21033</td>\n",
       "    </tr>\n",
       "  </tbody>\n",
       "</table>\n",
       "</div>"
      ],
      "text/plain": [
       "        h1n1_worry  h1n1_awareness  antiviral_medication  contact_avoidance  bought_face_mask  \\\n",
       "count      26615.0         26591.0               26636.0            26499.0           26688.0   \n",
       "unique         4.0             3.0                   2.0                2.0               2.0   \n",
       "top            2.0             1.0                   0.0                1.0               0.0   \n",
       "freq       10575.0         14598.0               25335.0            19228.0           24847.0   \n",
       "\n",
       "        wash_hands_frequently  avoid_large_gatherings  reduced_outside_home_cont  \\\n",
       "count                 26665.0                 26620.0                    26625.0   \n",
       "unique                    2.0                     2.0                        2.0   \n",
       "top                       1.0                     0.0                        0.0   \n",
       "freq                  22015.0                 17073.0                    17644.0   \n",
       "\n",
       "        avoid_touch_face  dr_recc_h1n1_vacc  dr_recc_seasonal_vacc  chronic_medic_condition  \\\n",
       "count            26579.0            24547.0                24547.0                  25736.0   \n",
       "unique               2.0                2.0                    2.0                      2.0   \n",
       "top                  1.0                0.0                    0.0                      0.0   \n",
       "freq             18001.0            19139.0                16453.0                  18446.0   \n",
       "\n",
       "        cont_child_undr_6_mnths  is_health_worker  has_health_insur  is_h1n1_vacc_effective  \\\n",
       "count                   25887.0           25903.0           14433.0                 26316.0   \n",
       "unique                      2.0               2.0               2.0                     5.0   \n",
       "top                         0.0               0.0               1.0                     4.0   \n",
       "freq                    23749.0           23004.0           12697.0                 11683.0   \n",
       "\n",
       "        is_h1n1_risky  sick_from_h1n1_vacc  is_seas_vacc_effective  is_seas_risky  \\\n",
       "count         26319.0              26312.0                 26245.0        26193.0   \n",
       "unique            5.0                  5.0                     5.0            5.0   \n",
       "top               2.0                  2.0                     4.0            2.0   \n",
       "freq           9919.0               9129.0                 11629.0         8954.0   \n",
       "\n",
       "        sick_from_seas_vacc age_bracket     qualification   race     sex  \\\n",
       "count               26170.0       26707             25300  26707   26707   \n",
       "unique                  5.0           5                 4      4       2   \n",
       "top                     1.0   65+ Years  College Graduate  White  Female   \n",
       "freq                11870.0        6843             10097  21222   15858   \n",
       "\n",
       "                     income_level marital_status housing_status employment  \\\n",
       "count                       22284          25299          24665      25244   \n",
       "unique                          3              2              2          3   \n",
       "top     <= $75,000, Above Poverty        Married            Own   Employed   \n",
       "freq                        12777          13555          18736      13560   \n",
       "\n",
       "                      census_msa  no_of_adults  no_of_children  h1n1_vaccine  \n",
       "count                      26707       26458.0         26458.0         26707  \n",
       "unique                         3           4.0             4.0             2  \n",
       "top     MSA, Not Principle  City           1.0             0.0             0  \n",
       "freq                       11645       14474.0         18672.0         21033  "
      ]
     },
     "execution_count": 14,
     "metadata": {},
     "output_type": "execute_result"
    }
   ],
   "source": [
    "# Let's check for the rest\n",
    "df_vaccine.describe(include='object')"
   ]
  },
  {
   "cell_type": "markdown",
   "metadata": {
    "ExecuteTime": {
     "end_time": "2021-06-22T04:15:35.539002Z",
     "start_time": "2021-06-22T04:15:35.535405Z"
    }
   },
   "source": [
    "## Visualisation"
   ]
  },
  {
   "cell_type": "markdown",
   "metadata": {
    "ExecuteTime": {
     "end_time": "2021-06-22T04:15:44.629607Z",
     "start_time": "2021-06-22T04:15:44.615414Z"
    }
   },
   "source": [
    "### Univariate Analysis"
   ]
  },
  {
   "cell_type": "code",
   "execution_count": 15,
   "metadata": {
    "ExecuteTime": {
     "end_time": "2021-06-22T06:05:00.588273Z",
     "start_time": "2021-06-22T06:04:53.231837Z"
    },
    "scrolled": false
   },
   "outputs": [
    {
     "name": "stdout",
     "output_type": "stream",
     "text": [
      "Column:  h1n1_worry\n",
      "2.0    10575\n",
      "1.0     8153\n",
      "3.0     4591\n",
      "0.0     3296\n",
      "Name: h1n1_worry, dtype: int64\n"
     ]
    },
    {
     "data": {
      "image/png": "[encoded data removed]",
      "text/plain": [
       "<Figure size 720x432 with 1 Axes>"
      ]
     },
     "metadata": {
      "needs_background": "light"
     },
     "output_type": "display_data"
    },
    {
     "name": "stdout",
     "output_type": "stream",
     "text": [
      "Column:  h1n1_awareness\n",
      "1.0    14598\n",
      "2.0     9487\n",
      "0.0     2506\n",
      "Name: h1n1_awareness, dtype: int64\n"
     ]
    },
    {
     "data": {
      "image/png": "[encoded data removed]",
      "text/plain": [
       "<Figure size 720x432 with 1 Axes>"
      ]
     },
     "metadata": {
      "needs_background": "light"
     },
     "output_type": "display_data"
    },
    {
     "name": "stdout",
     "output_type": "stream",
     "text": [
      "Column:  antiviral_medication\n",
      "0.0    25335\n",
      "1.0     1301\n",
      "Name: antiviral_medication, dtype: int64\n"
     ]
    },
    {
     "data": {
      "image/png": "[encoded data removed]",
      "text/plain": [
       "<Figure size 720x432 with 1 Axes>"
      ]
     },
     "metadata": {
      "needs_background": "light"
     },
     "output_type": "display_data"
    },
    {
     "name": "stdout",
     "output_type": "stream",
     "text": [
      "Column:  contact_avoidance\n",
      "1.0    19228\n",
      "0.0     7271\n",
      "Name: contact_avoidance, dtype: int64\n"
     ]
    },
    {
     "data": {
      "image/png": "[encoded data removed]",
      "text/plain": [
       "<Figure size 720x432 with 1 Axes>"
      ]
     },
     "metadata": {
      "needs_background": "light"
     },
     "output_type": "display_data"
    },
    {
     "name": "stdout",
     "output_type": "stream",
     "text": [
      "Column:  bought_face_mask\n",
      "0.0    24847\n",
      "1.0     1841\n",
      "Name: bought_face_mask, dtype: int64\n"
     ]
    },
    {
     "data": {
      "image/png": "[encoded data removed]",
      "text/plain": [
       "<Figure size 720x432 with 1 Axes>"
      ]
     },
     "metadata": {
      "needs_background": "light"
     },
     "output_type": "display_data"
    },
    {
     "name": "stdout",
     "output_type": "stream",
     "text": [
      "Column:  wash_hands_frequently\n",
      "1.0    22015\n",
      "0.0     4650\n",
      "Name: wash_hands_frequently, dtype: int64\n"
     ]
    },
    {
     "data": {
      "image/png": "[encoded data removed]",
      "text/plain": [
       "<Figure size 720x432 with 1 Axes>"
      ]
     },
     "metadata": {
      "needs_background": "light"
     },
     "output_type": "display_data"
    },
    {
     "name": "stdout",
     "output_type": "stream",
     "text": [
      "Column:  avoid_large_gatherings\n",
      "0.0    17073\n",
      "1.0     9547\n",
      "Name: avoid_large_gatherings, dtype: int64\n"
     ]
    },
    {
     "data": {
      "image/png": "[encoded data removed]",
      "text/plain": [
       "<Figure size 720x432 with 1 Axes>"
      ]
     },
     "metadata": {
      "needs_background": "light"
     },
     "output_type": "display_data"
    },
    {
     "name": "stdout",
     "output_type": "stream",
     "text": [
      "Column:  reduced_outside_home_cont\n",
      "0.0    17644\n",
      "1.0     8981\n",
      "Name: reduced_outside_home_cont, dtype: int64\n"
     ]
    },
    {
     "data": {
      "image/png": "[encoded data removed]",
      "text/plain": [
       "<Figure size 720x432 with 1 Axes>"
      ]
     },
     "metadata": {
      "needs_background": "light"
     },
     "output_type": "display_data"
    },
    {
     "name": "stdout",
     "output_type": "stream",
     "text": [
      "Column:  avoid_touch_face\n",
      "1.0    18001\n",
      "0.0     8578\n",
      "Name: avoid_touch_face, dtype: int64\n"
     ]
    },
    {
     "data": {
      "image/png": "[encoded data removed]",
      "text/plain": [
       "<Figure size 720x432 with 1 Axes>"
      ]
     },
     "metadata": {
      "needs_background": "light"
     },
     "output_type": "display_data"
    },
    {
     "name": "stdout",
     "output_type": "stream",
     "text": [
      "Column:  dr_recc_h1n1_vacc\n",
      "0.0    19139\n",
      "1.0     5408\n",
      "Name: dr_recc_h1n1_vacc, dtype: int64\n"
     ]
    },
    {
     "data": {
      "image/png": "[encoded data removed]",
      "text/plain": [
       "<Figure size 720x432 with 1 Axes>"
      ]
     },
     "metadata": {
      "needs_background": "light"
     },
     "output_type": "display_data"
    },
    {
     "name": "stdout",
     "output_type": "stream",
     "text": [
      "Column:  dr_recc_seasonal_vacc\n",
      "0.0    16453\n",
      "1.0     8094\n",
      "Name: dr_recc_seasonal_vacc, dtype: int64\n"
     ]
    },
    {
     "data": {
      "image/png": "[encoded data removed]",
      "text/plain": [
       "<Figure size 720x432 with 1 Axes>"
      ]
     },
     "metadata": {
      "needs_background": "light"
     },
     "output_type": "display_data"
    },
    {
     "name": "stdout",
     "output_type": "stream",
     "text": [
      "Column:  chronic_medic_condition\n",
      "0.0    18446\n",
      "1.0     7290\n",
      "Name: chronic_medic_condition, dtype: int64\n"
     ]
    },
    {
     "data": {
      "image/png": "[encoded data removed]",
      "text/plain": [
       "<Figure size 720x432 with 1 Axes>"
      ]
     },
     "metadata": {
      "needs_background": "light"
     },
     "output_type": "display_data"
    },
    {
     "name": "stdout",
     "output_type": "stream",
     "text": [
      "Column:  cont_child_undr_6_mnths\n",
      "0.0    23749\n",
      "1.0     2138\n",
      "Name: cont_child_undr_6_mnths, dtype: int64\n"
     ]
    },
    {
     "data": {
      "image/png": "[encoded data removed]",
      "text/plain": [
       "<Figure size 720x432 with 1 Axes>"
      ]
     },
     "metadata": {
      "needs_background": "light"
     },
     "output_type": "display_data"
    },
    {
     "name": "stdout",
     "output_type": "stream",
     "text": [
      "Column:  is_health_worker\n",
      "0.0    23004\n",
      "1.0     2899\n",
      "Name: is_health_worker, dtype: int64\n"
     ]
    },
    {
     "data": {
      "image/png": "[encoded data removed]",
      "text/plain": [
       "<Figure size 720x432 with 1 Axes>"
      ]
     },
     "metadata": {
      "needs_background": "light"
     },
     "output_type": "display_data"
    },
    {
     "name": "stdout",
     "output_type": "stream",
     "text": [
      "Column:  has_health_insur\n",
      "1.0    12697\n",
      "0.0     1736\n",
      "Name: has_health_insur, dtype: int64\n"
     ]
    },
    {
     "data": {
      "image/png": "[encoded data removed]",
      "text/plain": [
       "<Figure size 720x432 with 1 Axes>"
      ]
     },
     "metadata": {
      "needs_background": "light"
     },
     "output_type": "display_data"
    },
    {
     "name": "stdout",
     "output_type": "stream",
     "text": [
      "Column:  is_h1n1_vacc_effective\n",
      "4.0    11683\n",
      "5.0     7166\n",
      "3.0     4723\n",
      "2.0     1858\n",
      "1.0      886\n",
      "Name: is_h1n1_vacc_effective, dtype: int64\n"
     ]
    },
    {
     "data": {
      "image/png": "[encoded data removed]",
      "text/plain": [
       "<Figure size 720x432 with 1 Axes>"
      ]
     },
     "metadata": {
      "needs_background": "light"
     },
     "output_type": "display_data"
    },
    {
     "name": "stdout",
     "output_type": "stream",
     "text": [
      "Column:  is_h1n1_risky\n",
      "2.0    9919\n",
      "1.0    8139\n",
      "4.0    5394\n",
      "5.0    1750\n",
      "3.0    1117\n",
      "Name: is_h1n1_risky, dtype: int64\n"
     ]
    },
    {
     "data": {
      "image/png": "[encoded data removed]",
      "text/plain": [
       "<Figure size 720x432 with 1 Axes>"
      ]
     },
     "metadata": {
      "needs_background": "light"
     },
     "output_type": "display_data"
    },
    {
     "name": "stdout",
     "output_type": "stream",
     "text": [
      "Column:  sick_from_h1n1_vacc\n",
      "2.0    9129\n",
      "1.0    8998\n",
      "4.0    5850\n",
      "5.0    2187\n",
      "3.0     148\n",
      "Name: sick_from_h1n1_vacc, dtype: int64\n"
     ]
    },
    {
     "data": {
      "image/png": "[encoded data removed]",
      "text/plain": [
       "<Figure size 720x432 with 1 Axes>"
      ]
     },
     "metadata": {
      "needs_background": "light"
     },
     "output_type": "display_data"
    },
    {
     "name": "stdout",
     "output_type": "stream",
     "text": [
      "Column:  is_seas_vacc_effective\n",
      "4.0    11629\n",
      "5.0     9973\n",
      "2.0     2206\n",
      "1.0     1221\n",
      "3.0     1216\n",
      "Name: is_seas_vacc_effective, dtype: int64\n"
     ]
    },
    {
     "data": {
      "image/png": "[encoded data removed]",
      "text/plain": [
       "<Figure size 720x432 with 1 Axes>"
      ]
     },
     "metadata": {
      "needs_background": "light"
     },
     "output_type": "display_data"
    },
    {
     "name": "stdout",
     "output_type": "stream",
     "text": [
      "Column:  is_seas_risky\n",
      "2.0    8954\n",
      "4.0    7630\n",
      "1.0    5974\n",
      "5.0    2958\n",
      "3.0     677\n",
      "Name: is_seas_risky, dtype: int64\n"
     ]
    },
    {
     "data": {
      "image/png": "[encoded data removed]",
      "text/plain": [
       "<Figure size 720x432 with 1 Axes>"
      ]
     },
     "metadata": {
      "needs_background": "light"
     },
     "output_type": "display_data"
    },
    {
     "name": "stdout",
     "output_type": "stream",
     "text": [
      "Column:  sick_from_seas_vacc\n",
      "1.0    11870\n",
      "2.0     7633\n",
      "4.0     4852\n",
      "5.0     1721\n",
      "3.0       94\n",
      "Name: sick_from_seas_vacc, dtype: int64\n"
     ]
    },
    {
     "data": {
      "image/png": "[encoded data removed]",
      "text/plain": [
       "<Figure size 720x432 with 1 Axes>"
      ]
     },
     "metadata": {
      "needs_background": "light"
     },
     "output_type": "display_data"
    },
    {
     "name": "stdout",
     "output_type": "stream",
     "text": [
      "Column:  age_bracket\n",
      "65+ Years        6843\n",
      "55 - 64 Years    5563\n",
      "45 - 54 Years    5238\n",
      "18 - 34 Years    5215\n",
      "35 - 44 Years    3848\n",
      "Name: age_bracket, dtype: int64\n"
     ]
    },
    {
     "data": {
      "image/png": "[encoded data removed]",
      "text/plain": [
       "<Figure size 720x432 with 1 Axes>"
      ]
     },
     "metadata": {
      "needs_background": "light"
     },
     "output_type": "display_data"
    },
    {
     "name": "stdout",
     "output_type": "stream",
     "text": [
      "Column:  qualification\n",
      "College Graduate    10097\n",
      "Some College         7043\n",
      "12 Years             5797\n",
      "< 12 Years           2363\n",
      "Name: qualification, dtype: int64\n"
     ]
    },
    {
     "data": {
      "image/png": "[encoded data removed]",
      "text/plain": [
       "<Figure size 720x432 with 1 Axes>"
      ]
     },
     "metadata": {
      "needs_background": "light"
     },
     "output_type": "display_data"
    },
    {
     "name": "stdout",
     "output_type": "stream",
     "text": [
      "Column:  race\n",
      "White                21222\n",
      "Black                 2118\n",
      "Hispanic              1755\n",
      "Other or Multiple     1612\n",
      "Name: race, dtype: int64\n"
     ]
    },
    {
     "data": {
      "image/png": "[encoded data removed]",
      "text/plain": [
       "<Figure size 720x432 with 1 Axes>"
      ]
     },
     "metadata": {
      "needs_background": "light"
     },
     "output_type": "display_data"
    },
    {
     "name": "stdout",
     "output_type": "stream",
     "text": [
      "Column:  sex\n",
      "Female    15858\n",
      "Male      10849\n",
      "Name: sex, dtype: int64\n"
     ]
    },
    {
     "data": {
      "image/png": "[encoded data removed]",
      "text/plain": [
       "<Figure size 720x432 with 1 Axes>"
      ]
     },
     "metadata": {
      "needs_background": "light"
     },
     "output_type": "display_data"
    },
    {
     "name": "stdout",
     "output_type": "stream",
     "text": [
      "Column:  income_level\n",
      "<= $75,000, Above Poverty    12777\n",
      "> $75,000                     6810\n",
      "Below Poverty                 2697\n",
      "Name: income_level, dtype: int64\n"
     ]
    },
    {
     "data": {
      "image/png": "[encoded data removed]",
      "text/plain": [
       "<Figure size 720x432 with 1 Axes>"
      ]
     },
     "metadata": {
      "needs_background": "light"
     },
     "output_type": "display_data"
    },
    {
     "name": "stdout",
     "output_type": "stream",
     "text": [
      "Column:  marital_status\n",
      "Married        13555\n",
      "Not Married    11744\n",
      "Name: marital_status, dtype: int64\n"
     ]
    },
    {
     "data": {
      "image/png": "[encoded data removed]",
      "text/plain": [
       "<Figure size 720x432 with 1 Axes>"
      ]
     },
     "metadata": {
      "needs_background": "light"
     },
     "output_type": "display_data"
    },
    {
     "name": "stdout",
     "output_type": "stream",
     "text": [
      "Column:  housing_status\n",
      "Own     18736\n",
      "Rent     5929\n",
      "Name: housing_status, dtype: int64\n"
     ]
    },
    {
     "data": {
      "image/png": "[encoded data removed]",
      "text/plain": [
       "<Figure size 720x432 with 1 Axes>"
      ]
     },
     "metadata": {
      "needs_background": "light"
     },
     "output_type": "display_data"
    },
    {
     "name": "stdout",
     "output_type": "stream",
     "text": [
      "Column:  employment\n",
      "Employed              13560\n",
      "Not in Labor Force    10231\n",
      "Unemployed             1453\n",
      "Name: employment, dtype: int64\n"
     ]
    },
    {
     "data": {
      "image/png": "[encoded data removed]",
      "text/plain": [
       "<Figure size 720x432 with 1 Axes>"
      ]
     },
     "metadata": {
      "needs_background": "light"
     },
     "output_type": "display_data"
    },
    {
     "name": "stdout",
     "output_type": "stream",
     "text": [
      "Column:  census_msa\n",
      "MSA, Not Principle  City    11645\n",
      "MSA, Principle City          7864\n",
      "Non-MSA                      7198\n",
      "Name: census_msa, dtype: int64\n"
     ]
    },
    {
     "data": {
      "image/png": "[encoded data removed]",
      "text/plain": [
       "<Figure size 720x432 with 1 Axes>"
      ]
     },
     "metadata": {
      "needs_background": "light"
     },
     "output_type": "display_data"
    },
    {
     "name": "stdout",
     "output_type": "stream",
     "text": [
      "Column:  no_of_adults\n",
      "1.0    14474\n",
      "0.0     8056\n",
      "2.0     2803\n",
      "3.0     1125\n",
      "Name: no_of_adults, dtype: int64\n"
     ]
    },
    {
     "data": {
      "image/png": "[encoded data removed]",
      "text/plain": [
       "<Figure size 720x432 with 1 Axes>"
      ]
     },
     "metadata": {
      "needs_background": "light"
     },
     "output_type": "display_data"
    },
    {
     "name": "stdout",
     "output_type": "stream",
     "text": [
      "Column:  no_of_children\n",
      "0.0    18672\n",
      "1.0     3175\n",
      "2.0     2864\n",
      "3.0     1747\n",
      "Name: no_of_children, dtype: int64\n"
     ]
    },
    {
     "data": {
      "image/png": "[encoded data removed]",
      "text/plain": [
       "<Figure size 720x432 with 1 Axes>"
      ]
     },
     "metadata": {
      "needs_background": "light"
     },
     "output_type": "display_data"
    },
    {
     "name": "stdout",
     "output_type": "stream",
     "text": [
      "Column:  h1n1_vaccine\n",
      "0    21033\n",
      "1     5674\n",
      "Name: h1n1_vaccine, dtype: int64\n"
     ]
    },
    {
     "data": {
      "image/png": "[encoded data removed]",
      "text/plain": [
       "<Figure size 720x432 with 1 Axes>"
      ]
     },
     "metadata": {
      "needs_background": "light"
     },
     "output_type": "display_data"
    }
   ],
   "source": [
    "plt.rcParams['figure.figsize'] = [10,6]\n",
    "\n",
    "# create a list of all categorical variables\n",
    "# initiate an empty list to store the categorical variables\n",
    "categorical=[]\n",
    "\n",
    "# use for loop to check the data type of each variable\n",
    "for column in df_vaccine.columns:\n",
    "    \n",
    "    # use 'if' statement with condition to check the categorical type \n",
    "    if is_string_dtype(df_vaccine[column]):\n",
    "        \n",
    "        # append the variables with 'categoric' data type in the list 'categorical'\n",
    "        categorical.append(column)\n",
    "        print(\"Column: \", column)\n",
    "        print(df_vaccine[column].value_counts())\n",
    "    \n",
    "        # use countplot() to plot the graph\n",
    "        # pass the axes for the plot to the parameter, 'ax'\n",
    "        sns.countplot(df_vaccine[column])\n",
    "\n",
    "        # display the plot\n",
    "        plt.show()"
   ]
  },
  {
   "cell_type": "markdown",
   "metadata": {
    "ExecuteTime": {
     "end_time": "2021-06-22T04:20:43.144368Z",
     "start_time": "2021-06-22T04:20:43.133842Z"
    }
   },
   "source": [
    "## Correlation\n",
    "Correlation is a statistic that measures the degree to which two variables move with each other. A correlation coefficient near  1  indicates the strong relationship between them; a weak correlation indicates the extent to which one variable increases as the other decreases. Correlation among multiple variables can be represented in the form of a matrix. This allows us to see which variables are correlated. Since all the independent variables are categorical variables, we skip this step."
   ]
  },
  {
   "cell_type": "code",
   "execution_count": 16,
   "metadata": {
    "ExecuteTime": {
     "end_time": "2021-06-22T06:05:00.603214Z",
     "start_time": "2021-06-22T06:05:00.589572Z"
    }
   },
   "outputs": [
    {
     "data": {
      "text/html": [
       "<div>\n",
       "<style scoped>\n",
       "    .dataframe tbody tr th:only-of-type {\n",
       "        vertical-align: middle;\n",
       "    }\n",
       "\n",
       "    .dataframe tbody tr th {\n",
       "        vertical-align: top;\n",
       "    }\n",
       "\n",
       "    .dataframe thead th {\n",
       "        text-align: right;\n",
       "    }\n",
       "</style>\n",
       "<table border=\"1\" class=\"dataframe\">\n",
       "  <thead>\n",
       "    <tr style=\"text-align: right;\">\n",
       "      <th></th>\n",
       "      <th>unique_id</th>\n",
       "    </tr>\n",
       "  </thead>\n",
       "  <tbody>\n",
       "    <tr>\n",
       "      <th>unique_id</th>\n",
       "      <td>1.0</td>\n",
       "    </tr>\n",
       "  </tbody>\n",
       "</table>\n",
       "</div>"
      ],
      "text/plain": [
       "           unique_id\n",
       "unique_id        1.0"
      ]
     },
     "execution_count": 16,
     "metadata": {},
     "output_type": "execute_result"
    }
   ],
   "source": [
    "df_vaccine.corr()"
   ]
  },
  {
   "cell_type": "markdown",
   "metadata": {},
   "source": [
    "# Data Cleaning"
   ]
  },
  {
   "cell_type": "code",
   "execution_count": 17,
   "metadata": {
    "ExecuteTime": {
     "end_time": "2021-06-22T06:05:00.727860Z",
     "start_time": "2021-06-22T06:05:00.614564Z"
    }
   },
   "outputs": [
    {
     "data": {
      "text/html": [
       "<div>\n",
       "<style scoped>\n",
       "    .dataframe tbody tr th:only-of-type {\n",
       "        vertical-align: middle;\n",
       "    }\n",
       "\n",
       "    .dataframe tbody tr th {\n",
       "        vertical-align: top;\n",
       "    }\n",
       "\n",
       "    .dataframe thead th {\n",
       "        text-align: right;\n",
       "    }\n",
       "</style>\n",
       "<table border=\"1\" class=\"dataframe\">\n",
       "  <thead>\n",
       "    <tr style=\"text-align: right;\">\n",
       "      <th></th>\n",
       "      <th>Total</th>\n",
       "      <th>Percentage of Missing Values</th>\n",
       "    </tr>\n",
       "  </thead>\n",
       "  <tbody>\n",
       "    <tr>\n",
       "      <th>has_health_insur</th>\n",
       "      <td>12274</td>\n",
       "      <td>45.957989</td>\n",
       "    </tr>\n",
       "    <tr>\n",
       "      <th>income_level</th>\n",
       "      <td>4423</td>\n",
       "      <td>16.561201</td>\n",
       "    </tr>\n",
       "    <tr>\n",
       "      <th>dr_recc_h1n1_vacc</th>\n",
       "      <td>2160</td>\n",
       "      <td>8.087767</td>\n",
       "    </tr>\n",
       "    <tr>\n",
       "      <th>dr_recc_seasonal_vacc</th>\n",
       "      <td>2160</td>\n",
       "      <td>8.087767</td>\n",
       "    </tr>\n",
       "    <tr>\n",
       "      <th>housing_status</th>\n",
       "      <td>2042</td>\n",
       "      <td>7.645936</td>\n",
       "    </tr>\n",
       "    <tr>\n",
       "      <th>employment</th>\n",
       "      <td>1463</td>\n",
       "      <td>5.477965</td>\n",
       "    </tr>\n",
       "    <tr>\n",
       "      <th>marital_status</th>\n",
       "      <td>1408</td>\n",
       "      <td>5.272026</td>\n",
       "    </tr>\n",
       "    <tr>\n",
       "      <th>qualification</th>\n",
       "      <td>1407</td>\n",
       "      <td>5.268282</td>\n",
       "    </tr>\n",
       "    <tr>\n",
       "      <th>chronic_medic_condition</th>\n",
       "      <td>971</td>\n",
       "      <td>3.635751</td>\n",
       "    </tr>\n",
       "    <tr>\n",
       "      <th>cont_child_undr_6_mnths</th>\n",
       "      <td>820</td>\n",
       "      <td>3.070356</td>\n",
       "    </tr>\n",
       "    <tr>\n",
       "      <th>is_health_worker</th>\n",
       "      <td>804</td>\n",
       "      <td>3.010447</td>\n",
       "    </tr>\n",
       "    <tr>\n",
       "      <th>sick_from_seas_vacc</th>\n",
       "      <td>537</td>\n",
       "      <td>2.010709</td>\n",
       "    </tr>\n",
       "    <tr>\n",
       "      <th>is_seas_risky</th>\n",
       "      <td>514</td>\n",
       "      <td>1.924589</td>\n",
       "    </tr>\n",
       "    <tr>\n",
       "      <th>is_seas_vacc_effective</th>\n",
       "      <td>462</td>\n",
       "      <td>1.729884</td>\n",
       "    </tr>\n",
       "    <tr>\n",
       "      <th>sick_from_h1n1_vacc</th>\n",
       "      <td>395</td>\n",
       "      <td>1.479013</td>\n",
       "    </tr>\n",
       "    <tr>\n",
       "      <th>is_h1n1_vacc_effective</th>\n",
       "      <td>391</td>\n",
       "      <td>1.464036</td>\n",
       "    </tr>\n",
       "    <tr>\n",
       "      <th>is_h1n1_risky</th>\n",
       "      <td>388</td>\n",
       "      <td>1.452803</td>\n",
       "    </tr>\n",
       "    <tr>\n",
       "      <th>no_of_children</th>\n",
       "      <td>249</td>\n",
       "      <td>0.932340</td>\n",
       "    </tr>\n",
       "    <tr>\n",
       "      <th>no_of_adults</th>\n",
       "      <td>249</td>\n",
       "      <td>0.932340</td>\n",
       "    </tr>\n",
       "    <tr>\n",
       "      <th>contact_avoidance</th>\n",
       "      <td>208</td>\n",
       "      <td>0.778822</td>\n",
       "    </tr>\n",
       "    <tr>\n",
       "      <th>avoid_touch_face</th>\n",
       "      <td>128</td>\n",
       "      <td>0.479275</td>\n",
       "    </tr>\n",
       "    <tr>\n",
       "      <th>h1n1_awareness</th>\n",
       "      <td>116</td>\n",
       "      <td>0.434343</td>\n",
       "    </tr>\n",
       "    <tr>\n",
       "      <th>h1n1_worry</th>\n",
       "      <td>92</td>\n",
       "      <td>0.344479</td>\n",
       "    </tr>\n",
       "    <tr>\n",
       "      <th>avoid_large_gatherings</th>\n",
       "      <td>87</td>\n",
       "      <td>0.325757</td>\n",
       "    </tr>\n",
       "    <tr>\n",
       "      <th>reduced_outside_home_cont</th>\n",
       "      <td>82</td>\n",
       "      <td>0.307036</td>\n",
       "    </tr>\n",
       "    <tr>\n",
       "      <th>antiviral_medication</th>\n",
       "      <td>71</td>\n",
       "      <td>0.265848</td>\n",
       "    </tr>\n",
       "    <tr>\n",
       "      <th>wash_hands_frequently</th>\n",
       "      <td>42</td>\n",
       "      <td>0.157262</td>\n",
       "    </tr>\n",
       "    <tr>\n",
       "      <th>bought_face_mask</th>\n",
       "      <td>19</td>\n",
       "      <td>0.071142</td>\n",
       "    </tr>\n",
       "    <tr>\n",
       "      <th>h1n1_vaccine</th>\n",
       "      <td>0</td>\n",
       "      <td>0.000000</td>\n",
       "    </tr>\n",
       "    <tr>\n",
       "      <th>age_bracket</th>\n",
       "      <td>0</td>\n",
       "      <td>0.000000</td>\n",
       "    </tr>\n",
       "    <tr>\n",
       "      <th>race</th>\n",
       "      <td>0</td>\n",
       "      <td>0.000000</td>\n",
       "    </tr>\n",
       "    <tr>\n",
       "      <th>sex</th>\n",
       "      <td>0</td>\n",
       "      <td>0.000000</td>\n",
       "    </tr>\n",
       "    <tr>\n",
       "      <th>census_msa</th>\n",
       "      <td>0</td>\n",
       "      <td>0.000000</td>\n",
       "    </tr>\n",
       "    <tr>\n",
       "      <th>unique_id</th>\n",
       "      <td>0</td>\n",
       "      <td>0.000000</td>\n",
       "    </tr>\n",
       "  </tbody>\n",
       "</table>\n",
       "</div>"
      ],
      "text/plain": [
       "                           Total  Percentage of Missing Values\n",
       "has_health_insur           12274                     45.957989\n",
       "income_level                4423                     16.561201\n",
       "dr_recc_h1n1_vacc           2160                      8.087767\n",
       "dr_recc_seasonal_vacc       2160                      8.087767\n",
       "housing_status              2042                      7.645936\n",
       "employment                  1463                      5.477965\n",
       "marital_status              1408                      5.272026\n",
       "qualification               1407                      5.268282\n",
       "chronic_medic_condition      971                      3.635751\n",
       "cont_child_undr_6_mnths      820                      3.070356\n",
       "is_health_worker             804                      3.010447\n",
       "sick_from_seas_vacc          537                      2.010709\n",
       "is_seas_risky                514                      1.924589\n",
       "is_seas_vacc_effective       462                      1.729884\n",
       "sick_from_h1n1_vacc          395                      1.479013\n",
       "is_h1n1_vacc_effective       391                      1.464036\n",
       "is_h1n1_risky                388                      1.452803\n",
       "no_of_children               249                      0.932340\n",
       "no_of_adults                 249                      0.932340\n",
       "contact_avoidance            208                      0.778822\n",
       "avoid_touch_face             128                      0.479275\n",
       "h1n1_awareness               116                      0.434343\n",
       "h1n1_worry                    92                      0.344479\n",
       "avoid_large_gatherings        87                      0.325757\n",
       "reduced_outside_home_cont     82                      0.307036\n",
       "antiviral_medication          71                      0.265848\n",
       "wash_hands_frequently         42                      0.157262\n",
       "bought_face_mask              19                      0.071142\n",
       "h1n1_vaccine                   0                      0.000000\n",
       "age_bracket                    0                      0.000000\n",
       "race                           0                      0.000000\n",
       "sex                            0                      0.000000\n",
       "census_msa                     0                      0.000000\n",
       "unique_id                      0                      0.000000"
      ]
     },
     "execution_count": 17,
     "metadata": {},
     "output_type": "execute_result"
    }
   ],
   "source": [
    "# sort the variables on the basis of total null values in the variable\n",
    "# 'isnull().sum()' returns the number of missing values in each variable\n",
    "# 'ascending = False' sorts values in the descending order\n",
    "# the variable with highest number of missing values will appear first\n",
    "Total = df_vaccine.isnull().sum().sort_values(ascending = False)          \n",
    "\n",
    "# calculate the percentage of missing values\n",
    "# 'ascending = False' sorts values in the descending order\n",
    "# the variable with highest percentage of missing values will appear first\n",
    "Percent = (df_vaccine.isnull().sum()*100/df_vaccine.isnull().count()).sort_values(ascending = False)   \n",
    "\n",
    "# concat the 'Total' and 'Percent' columns using 'concat' function\n",
    "# 'keys' is the list of column names\n",
    "# 'axis = 1' concats along the columns\n",
    "missing_data = pd.concat([Total, Percent], axis = 1, keys = ['Total', 'Percentage of Missing Values'])    \n",
    "missing_data"
   ]
  },
  {
   "cell_type": "code",
   "execution_count": 18,
   "metadata": {
    "ExecuteTime": {
     "end_time": "2021-06-22T06:05:02.948053Z",
     "start_time": "2021-06-22T06:05:00.730032Z"
    }
   },
   "outputs": [
    {
     "data": {
      "image/png": "[encoded data removed]",
      "text/plain": [
       "<Figure size 720x432 with 1 Axes>"
      ]
     },
     "metadata": {
      "needs_background": "light"
     },
     "output_type": "display_data"
    }
   ],
   "source": [
    "# plot heatmap to check null values\n",
    "# 'cbar = False' does not show the color axis \n",
    "sns.heatmap(df_vaccine.isnull(), cbar=False)\n",
    "\n",
    "# display the plot\n",
    "plt.show()"
   ]
  },
  {
   "cell_type": "markdown",
   "metadata": {},
   "source": [
    "Ways the handle missing values\n",
    "\n",
    "    1. Drop the rows\n",
    "    2. Drop the columns\n",
    "    3. Missing Value imputation.\n",
    "    "
   ]
  },
  {
   "cell_type": "code",
   "execution_count": 19,
   "metadata": {
    "ExecuteTime": {
     "end_time": "2021-06-22T06:05:02.979596Z",
     "start_time": "2021-06-22T06:05:02.951839Z"
    }
   },
   "outputs": [],
   "source": [
    "thresh=8\n",
    "columns_to_drop=list(missing_data[missing_data['Percentage of Missing Values']>thresh].index)"
   ]
  },
  {
   "cell_type": "markdown",
   "metadata": {},
   "source": [
    "## drop columns"
   ]
  },
  {
   "cell_type": "code",
   "execution_count": 20,
   "metadata": {
    "ExecuteTime": {
     "end_time": "2021-06-22T06:05:03.055023Z",
     "start_time": "2021-06-22T06:05:02.984067Z"
    }
   },
   "outputs": [],
   "source": [
    "df_vaccine_cleaned=df_vaccine.drop(columns=columns_to_drop).copy()"
   ]
  },
  {
   "cell_type": "code",
   "execution_count": 21,
   "metadata": {
    "ExecuteTime": {
     "end_time": "2021-06-22T06:05:05.474454Z",
     "start_time": "2021-06-22T06:05:03.057199Z"
    }
   },
   "outputs": [
    {
     "data": {
      "image/png": "[encoded data removed]",
      "text/plain": [
       "<Figure size 720x432 with 1 Axes>"
      ]
     },
     "metadata": {
      "needs_background": "light"
     },
     "output_type": "display_data"
    }
   ],
   "source": [
    "#lets check the heatmap again\n",
    "sns.heatmap(df_vaccine_cleaned.isnull(), cbar=False)\n",
    "plt.show()"
   ]
  },
  {
   "cell_type": "markdown",
   "metadata": {},
   "source": [
    "## Drop rows"
   ]
  },
  {
   "cell_type": "code",
   "execution_count": 22,
   "metadata": {
    "ExecuteTime": {
     "end_time": "2021-06-22T06:05:05.490113Z",
     "start_time": "2021-06-22T06:05:05.476275Z"
    }
   },
   "outputs": [],
   "source": [
    "# We can see a lot of data is missing in the same row itself\n",
    "# So lets drop the rows ahving NA valuesdd"
   ]
  },
  {
   "cell_type": "code",
   "execution_count": 23,
   "metadata": {
    "ExecuteTime": {
     "end_time": "2021-06-22T06:05:05.568016Z",
     "start_time": "2021-06-22T06:05:05.492479Z"
    }
   },
   "outputs": [
    {
     "data": {
      "text/plain": [
       "(23426, 30)"
      ]
     },
     "execution_count": 23,
     "metadata": {},
     "output_type": "execute_result"
    }
   ],
   "source": [
    "df_vaccine_cleaned.dropna(axis=0).shape"
   ]
  },
  {
   "cell_type": "code",
   "execution_count": 24,
   "metadata": {
    "ExecuteTime": {
     "end_time": "2021-06-22T06:05:05.583722Z",
     "start_time": "2021-06-22T06:05:05.575989Z"
    }
   },
   "outputs": [
    {
     "data": {
      "text/plain": [
       "(26707, 30)"
      ]
     },
     "execution_count": 24,
     "metadata": {},
     "output_type": "execute_result"
    }
   ],
   "source": [
    "df_vaccine_cleaned.shape"
   ]
  },
  {
   "cell_type": "markdown",
   "metadata": {
    "ExecuteTime": {
     "end_time": "2021-06-22T05:34:07.304765Z",
     "start_time": "2021-06-22T05:34:07.299848Z"
    }
   },
   "source": [
    "So there is a 3k drop which is fine, we can later come back and impute the missing values and check the model again"
   ]
  },
  {
   "cell_type": "code",
   "execution_count": 25,
   "metadata": {
    "ExecuteTime": {
     "end_time": "2021-06-22T06:05:05.676946Z",
     "start_time": "2021-06-22T06:05:05.586173Z"
    }
   },
   "outputs": [],
   "source": [
    "df_vaccine_dropped=df_vaccine_cleaned.dropna(axis=0).copy()"
   ]
  },
  {
   "cell_type": "code",
   "execution_count": 26,
   "metadata": {
    "ExecuteTime": {
     "end_time": "2021-06-22T06:05:08.321396Z",
     "start_time": "2021-06-22T06:05:05.680441Z"
    }
   },
   "outputs": [
    {
     "data": {
      "image/png": "[encoded data removed]",
      "text/plain": [
       "<Figure size 720x432 with 1 Axes>"
      ]
     },
     "metadata": {
      "needs_background": "light"
     },
     "output_type": "display_data"
    }
   ],
   "source": [
    "#lets check the heatmap now\n",
    "sns.heatmap(df_vaccine_dropped.isnull(), cbar=False)\n",
    "plt.show()"
   ]
  },
  {
   "cell_type": "code",
   "execution_count": 27,
   "metadata": {
    "ExecuteTime": {
     "end_time": "2021-06-22T06:05:08.367876Z",
     "start_time": "2021-06-22T06:05:08.326661Z"
    }
   },
   "outputs": [
    {
     "data": {
      "text/plain": [
       "unique_id                    0\n",
       "h1n1_worry                   0\n",
       "h1n1_awareness               0\n",
       "antiviral_medication         0\n",
       "contact_avoidance            0\n",
       "bought_face_mask             0\n",
       "wash_hands_frequently        0\n",
       "avoid_large_gatherings       0\n",
       "reduced_outside_home_cont    0\n",
       "avoid_touch_face             0\n",
       "chronic_medic_condition      0\n",
       "cont_child_undr_6_mnths      0\n",
       "is_health_worker             0\n",
       "is_h1n1_vacc_effective       0\n",
       "is_h1n1_risky                0\n",
       "sick_from_h1n1_vacc          0\n",
       "is_seas_vacc_effective       0\n",
       "is_seas_risky                0\n",
       "sick_from_seas_vacc          0\n",
       "age_bracket                  0\n",
       "qualification                0\n",
       "race                         0\n",
       "sex                          0\n",
       "marital_status               0\n",
       "housing_status               0\n",
       "employment                   0\n",
       "census_msa                   0\n",
       "no_of_adults                 0\n",
       "no_of_children               0\n",
       "h1n1_vaccine                 0\n",
       "dtype: int64"
      ]
     },
     "execution_count": 27,
     "metadata": {},
     "output_type": "execute_result"
    }
   ],
   "source": [
    "df_vaccine_dropped.isnull().sum()"
   ]
  },
  {
   "cell_type": "markdown",
   "metadata": {},
   "source": [
    "# Data Preperation"
   ]
  },
  {
   "cell_type": "code",
   "execution_count": 28,
   "metadata": {
    "ExecuteTime": {
     "end_time": "2021-06-22T06:05:08.444480Z",
     "start_time": "2021-06-22T06:05:08.378516Z"
    }
   },
   "outputs": [
    {
     "data": {
      "text/html": [
       "<div>\n",
       "<style scoped>\n",
       "    .dataframe tbody tr th:only-of-type {\n",
       "        vertical-align: middle;\n",
       "    }\n",
       "\n",
       "    .dataframe tbody tr th {\n",
       "        vertical-align: top;\n",
       "    }\n",
       "\n",
       "    .dataframe thead th {\n",
       "        text-align: right;\n",
       "    }\n",
       "</style>\n",
       "<table border=\"1\" class=\"dataframe\">\n",
       "  <thead>\n",
       "    <tr style=\"text-align: right;\">\n",
       "      <th></th>\n",
       "      <th>unique_id</th>\n",
       "      <th>h1n1_worry</th>\n",
       "      <th>h1n1_awareness</th>\n",
       "      <th>antiviral_medication</th>\n",
       "      <th>contact_avoidance</th>\n",
       "      <th>bought_face_mask</th>\n",
       "      <th>wash_hands_frequently</th>\n",
       "      <th>avoid_large_gatherings</th>\n",
       "      <th>reduced_outside_home_cont</th>\n",
       "      <th>avoid_touch_face</th>\n",
       "      <th>chronic_medic_condition</th>\n",
       "      <th>cont_child_undr_6_mnths</th>\n",
       "      <th>is_health_worker</th>\n",
       "      <th>is_h1n1_vacc_effective</th>\n",
       "      <th>is_h1n1_risky</th>\n",
       "      <th>sick_from_h1n1_vacc</th>\n",
       "      <th>is_seas_vacc_effective</th>\n",
       "      <th>is_seas_risky</th>\n",
       "      <th>sick_from_seas_vacc</th>\n",
       "      <th>age_bracket</th>\n",
       "      <th>qualification</th>\n",
       "      <th>race</th>\n",
       "      <th>sex</th>\n",
       "      <th>marital_status</th>\n",
       "      <th>housing_status</th>\n",
       "      <th>employment</th>\n",
       "      <th>census_msa</th>\n",
       "      <th>no_of_adults</th>\n",
       "      <th>no_of_children</th>\n",
       "      <th>h1n1_vaccine</th>\n",
       "    </tr>\n",
       "  </thead>\n",
       "  <tbody>\n",
       "    <tr>\n",
       "      <th>0</th>\n",
       "      <td>0</td>\n",
       "      <td>1</td>\n",
       "      <td>0</td>\n",
       "      <td>0</td>\n",
       "      <td>0</td>\n",
       "      <td>0</td>\n",
       "      <td>0</td>\n",
       "      <td>0</td>\n",
       "      <td>1</td>\n",
       "      <td>1</td>\n",
       "      <td>0</td>\n",
       "      <td>0</td>\n",
       "      <td>0</td>\n",
       "      <td>3</td>\n",
       "      <td>1</td>\n",
       "      <td>2</td>\n",
       "      <td>2</td>\n",
       "      <td>1</td>\n",
       "      <td>2</td>\n",
       "      <td>55 - 64 Years</td>\n",
       "      <td>&lt; 12 Years</td>\n",
       "      <td>White</td>\n",
       "      <td>Female</td>\n",
       "      <td>Not Married</td>\n",
       "      <td>Own</td>\n",
       "      <td>Not in Labor Force</td>\n",
       "      <td>Non-MSA</td>\n",
       "      <td>0</td>\n",
       "      <td>0</td>\n",
       "      <td>0</td>\n",
       "    </tr>\n",
       "    <tr>\n",
       "      <th>1</th>\n",
       "      <td>1</td>\n",
       "      <td>3</td>\n",
       "      <td>2</td>\n",
       "      <td>0</td>\n",
       "      <td>1</td>\n",
       "      <td>0</td>\n",
       "      <td>1</td>\n",
       "      <td>0</td>\n",
       "      <td>1</td>\n",
       "      <td>1</td>\n",
       "      <td>0</td>\n",
       "      <td>0</td>\n",
       "      <td>0</td>\n",
       "      <td>5</td>\n",
       "      <td>4</td>\n",
       "      <td>4</td>\n",
       "      <td>4</td>\n",
       "      <td>2</td>\n",
       "      <td>4</td>\n",
       "      <td>35 - 44 Years</td>\n",
       "      <td>12 Years</td>\n",
       "      <td>White</td>\n",
       "      <td>Male</td>\n",
       "      <td>Not Married</td>\n",
       "      <td>Rent</td>\n",
       "      <td>Employed</td>\n",
       "      <td>MSA, Not Principle  City</td>\n",
       "      <td>0</td>\n",
       "      <td>0</td>\n",
       "      <td>0</td>\n",
       "    </tr>\n",
       "    <tr>\n",
       "      <th>2</th>\n",
       "      <td>2</td>\n",
       "      <td>1</td>\n",
       "      <td>1</td>\n",
       "      <td>0</td>\n",
       "      <td>1</td>\n",
       "      <td>0</td>\n",
       "      <td>0</td>\n",
       "      <td>0</td>\n",
       "      <td>0</td>\n",
       "      <td>0</td>\n",
       "      <td>1</td>\n",
       "      <td>0</td>\n",
       "      <td>0</td>\n",
       "      <td>3</td>\n",
       "      <td>1</td>\n",
       "      <td>1</td>\n",
       "      <td>4</td>\n",
       "      <td>1</td>\n",
       "      <td>2</td>\n",
       "      <td>18 - 34 Years</td>\n",
       "      <td>College Graduate</td>\n",
       "      <td>White</td>\n",
       "      <td>Male</td>\n",
       "      <td>Not Married</td>\n",
       "      <td>Own</td>\n",
       "      <td>Employed</td>\n",
       "      <td>MSA, Not Principle  City</td>\n",
       "      <td>2</td>\n",
       "      <td>0</td>\n",
       "      <td>0</td>\n",
       "    </tr>\n",
       "    <tr>\n",
       "      <th>3</th>\n",
       "      <td>3</td>\n",
       "      <td>1</td>\n",
       "      <td>1</td>\n",
       "      <td>0</td>\n",
       "      <td>1</td>\n",
       "      <td>0</td>\n",
       "      <td>1</td>\n",
       "      <td>1</td>\n",
       "      <td>0</td>\n",
       "      <td>0</td>\n",
       "      <td>1</td>\n",
       "      <td>0</td>\n",
       "      <td>0</td>\n",
       "      <td>3</td>\n",
       "      <td>3</td>\n",
       "      <td>5</td>\n",
       "      <td>5</td>\n",
       "      <td>4</td>\n",
       "      <td>1</td>\n",
       "      <td>65+ Years</td>\n",
       "      <td>12 Years</td>\n",
       "      <td>White</td>\n",
       "      <td>Female</td>\n",
       "      <td>Not Married</td>\n",
       "      <td>Rent</td>\n",
       "      <td>Not in Labor Force</td>\n",
       "      <td>MSA, Principle City</td>\n",
       "      <td>0</td>\n",
       "      <td>0</td>\n",
       "      <td>0</td>\n",
       "    </tr>\n",
       "    <tr>\n",
       "      <th>4</th>\n",
       "      <td>4</td>\n",
       "      <td>2</td>\n",
       "      <td>1</td>\n",
       "      <td>0</td>\n",
       "      <td>1</td>\n",
       "      <td>0</td>\n",
       "      <td>1</td>\n",
       "      <td>1</td>\n",
       "      <td>0</td>\n",
       "      <td>1</td>\n",
       "      <td>0</td>\n",
       "      <td>0</td>\n",
       "      <td>0</td>\n",
       "      <td>3</td>\n",
       "      <td>3</td>\n",
       "      <td>2</td>\n",
       "      <td>3</td>\n",
       "      <td>1</td>\n",
       "      <td>4</td>\n",
       "      <td>45 - 54 Years</td>\n",
       "      <td>Some College</td>\n",
       "      <td>White</td>\n",
       "      <td>Female</td>\n",
       "      <td>Married</td>\n",
       "      <td>Own</td>\n",
       "      <td>Employed</td>\n",
       "      <td>MSA, Not Principle  City</td>\n",
       "      <td>1</td>\n",
       "      <td>0</td>\n",
       "      <td>0</td>\n",
       "    </tr>\n",
       "    <tr>\n",
       "      <th>...</th>\n",
       "      <td>...</td>\n",
       "      <td>...</td>\n",
       "      <td>...</td>\n",
       "      <td>...</td>\n",
       "      <td>...</td>\n",
       "      <td>...</td>\n",
       "      <td>...</td>\n",
       "      <td>...</td>\n",
       "      <td>...</td>\n",
       "      <td>...</td>\n",
       "      <td>...</td>\n",
       "      <td>...</td>\n",
       "      <td>...</td>\n",
       "      <td>...</td>\n",
       "      <td>...</td>\n",
       "      <td>...</td>\n",
       "      <td>...</td>\n",
       "      <td>...</td>\n",
       "      <td>...</td>\n",
       "      <td>...</td>\n",
       "      <td>...</td>\n",
       "      <td>...</td>\n",
       "      <td>...</td>\n",
       "      <td>...</td>\n",
       "      <td>...</td>\n",
       "      <td>...</td>\n",
       "      <td>...</td>\n",
       "      <td>...</td>\n",
       "      <td>...</td>\n",
       "      <td>...</td>\n",
       "    </tr>\n",
       "    <tr>\n",
       "      <th>26700</th>\n",
       "      <td>26700</td>\n",
       "      <td>3</td>\n",
       "      <td>1</td>\n",
       "      <td>0</td>\n",
       "      <td>1</td>\n",
       "      <td>0</td>\n",
       "      <td>1</td>\n",
       "      <td>0</td>\n",
       "      <td>0</td>\n",
       "      <td>1</td>\n",
       "      <td>0</td>\n",
       "      <td>0</td>\n",
       "      <td>0</td>\n",
       "      <td>4</td>\n",
       "      <td>2</td>\n",
       "      <td>5</td>\n",
       "      <td>5</td>\n",
       "      <td>4</td>\n",
       "      <td>5</td>\n",
       "      <td>55 - 64 Years</td>\n",
       "      <td>12 Years</td>\n",
       "      <td>White</td>\n",
       "      <td>Female</td>\n",
       "      <td>Married</td>\n",
       "      <td>Own</td>\n",
       "      <td>Not in Labor Force</td>\n",
       "      <td>MSA, Principle City</td>\n",
       "      <td>1</td>\n",
       "      <td>0</td>\n",
       "      <td>0</td>\n",
       "    </tr>\n",
       "    <tr>\n",
       "      <th>26701</th>\n",
       "      <td>26701</td>\n",
       "      <td>2</td>\n",
       "      <td>2</td>\n",
       "      <td>0</td>\n",
       "      <td>0</td>\n",
       "      <td>0</td>\n",
       "      <td>1</td>\n",
       "      <td>0</td>\n",
       "      <td>0</td>\n",
       "      <td>1</td>\n",
       "      <td>0</td>\n",
       "      <td>1</td>\n",
       "      <td>0</td>\n",
       "      <td>4</td>\n",
       "      <td>2</td>\n",
       "      <td>4</td>\n",
       "      <td>4</td>\n",
       "      <td>2</td>\n",
       "      <td>4</td>\n",
       "      <td>18 - 34 Years</td>\n",
       "      <td>College Graduate</td>\n",
       "      <td>White</td>\n",
       "      <td>Female</td>\n",
       "      <td>Not Married</td>\n",
       "      <td>Rent</td>\n",
       "      <td>Not in Labor Force</td>\n",
       "      <td>MSA, Principle City</td>\n",
       "      <td>3</td>\n",
       "      <td>0</td>\n",
       "      <td>0</td>\n",
       "    </tr>\n",
       "    <tr>\n",
       "      <th>26702</th>\n",
       "      <td>26702</td>\n",
       "      <td>2</td>\n",
       "      <td>0</td>\n",
       "      <td>0</td>\n",
       "      <td>1</td>\n",
       "      <td>0</td>\n",
       "      <td>0</td>\n",
       "      <td>0</td>\n",
       "      <td>1</td>\n",
       "      <td>0</td>\n",
       "      <td>0</td>\n",
       "      <td>0</td>\n",
       "      <td>0</td>\n",
       "      <td>3</td>\n",
       "      <td>1</td>\n",
       "      <td>1</td>\n",
       "      <td>5</td>\n",
       "      <td>2</td>\n",
       "      <td>2</td>\n",
       "      <td>65+ Years</td>\n",
       "      <td>Some College</td>\n",
       "      <td>White</td>\n",
       "      <td>Female</td>\n",
       "      <td>Not Married</td>\n",
       "      <td>Own</td>\n",
       "      <td>Not in Labor Force</td>\n",
       "      <td>Non-MSA</td>\n",
       "      <td>0</td>\n",
       "      <td>0</td>\n",
       "      <td>0</td>\n",
       "    </tr>\n",
       "    <tr>\n",
       "      <th>26703</th>\n",
       "      <td>26703</td>\n",
       "      <td>1</td>\n",
       "      <td>2</td>\n",
       "      <td>0</td>\n",
       "      <td>1</td>\n",
       "      <td>0</td>\n",
       "      <td>1</td>\n",
       "      <td>0</td>\n",
       "      <td>0</td>\n",
       "      <td>0</td>\n",
       "      <td>0</td>\n",
       "      <td>0</td>\n",
       "      <td>1</td>\n",
       "      <td>4</td>\n",
       "      <td>2</td>\n",
       "      <td>2</td>\n",
       "      <td>5</td>\n",
       "      <td>1</td>\n",
       "      <td>1</td>\n",
       "      <td>18 - 34 Years</td>\n",
       "      <td>College Graduate</td>\n",
       "      <td>White</td>\n",
       "      <td>Male</td>\n",
       "      <td>Not Married</td>\n",
       "      <td>Rent</td>\n",
       "      <td>Employed</td>\n",
       "      <td>MSA, Principle City</td>\n",
       "      <td>1</td>\n",
       "      <td>0</td>\n",
       "      <td>0</td>\n",
       "    </tr>\n",
       "    <tr>\n",
       "      <th>26706</th>\n",
       "      <td>26706</td>\n",
       "      <td>0</td>\n",
       "      <td>0</td>\n",
       "      <td>0</td>\n",
       "      <td>1</td>\n",
       "      <td>0</td>\n",
       "      <td>0</td>\n",
       "      <td>0</td>\n",
       "      <td>0</td>\n",
       "      <td>0</td>\n",
       "      <td>0</td>\n",
       "      <td>0</td>\n",
       "      <td>0</td>\n",
       "      <td>5</td>\n",
       "      <td>1</td>\n",
       "      <td>1</td>\n",
       "      <td>5</td>\n",
       "      <td>1</td>\n",
       "      <td>1</td>\n",
       "      <td>65+ Years</td>\n",
       "      <td>Some College</td>\n",
       "      <td>White</td>\n",
       "      <td>Male</td>\n",
       "      <td>Married</td>\n",
       "      <td>Own</td>\n",
       "      <td>Not in Labor Force</td>\n",
       "      <td>MSA, Principle City</td>\n",
       "      <td>1</td>\n",
       "      <td>0</td>\n",
       "      <td>0</td>\n",
       "    </tr>\n",
       "  </tbody>\n",
       "</table>\n",
       "<p>23426 rows × 30 columns</p>\n",
       "</div>"
      ],
      "text/plain": [
       "       unique_id h1n1_worry h1n1_awareness antiviral_medication contact_avoidance  \\\n",
       "0              0          1              0                    0                 0   \n",
       "1              1          3              2                    0                 1   \n",
       "2              2          1              1                    0                 1   \n",
       "3              3          1              1                    0                 1   \n",
       "4              4          2              1                    0                 1   \n",
       "...          ...        ...            ...                  ...               ...   \n",
       "26700      26700          3              1                    0                 1   \n",
       "26701      26701          2              2                    0                 0   \n",
       "26702      26702          2              0                    0                 1   \n",
       "26703      26703          1              2                    0                 1   \n",
       "26706      26706          0              0                    0                 1   \n",
       "\n",
       "      bought_face_mask wash_hands_frequently avoid_large_gatherings reduced_outside_home_cont  \\\n",
       "0                    0                     0                      0                         1   \n",
       "1                    0                     1                      0                         1   \n",
       "2                    0                     0                      0                         0   \n",
       "3                    0                     1                      1                         0   \n",
       "4                    0                     1                      1                         0   \n",
       "...                ...                   ...                    ...                       ...   \n",
       "26700                0                     1                      0                         0   \n",
       "26701                0                     1                      0                         0   \n",
       "26702                0                     0                      0                         1   \n",
       "26703                0                     1                      0                         0   \n",
       "26706                0                     0                      0                         0   \n",
       "\n",
       "      avoid_touch_face chronic_medic_condition cont_child_undr_6_mnths is_health_worker  \\\n",
       "0                    1                       0                       0                0   \n",
       "1                    1                       0                       0                0   \n",
       "2                    0                       1                       0                0   \n",
       "3                    0                       1                       0                0   \n",
       "4                    1                       0                       0                0   \n",
       "...                ...                     ...                     ...              ...   \n",
       "26700                1                       0                       0                0   \n",
       "26701                1                       0                       1                0   \n",
       "26702                0                       0                       0                0   \n",
       "26703                0                       0                       0                1   \n",
       "26706                0                       0                       0                0   \n",
       "\n",
       "      is_h1n1_vacc_effective is_h1n1_risky sick_from_h1n1_vacc is_seas_vacc_effective  \\\n",
       "0                          3             1                   2                      2   \n",
       "1                          5             4                   4                      4   \n",
       "2                          3             1                   1                      4   \n",
       "3                          3             3                   5                      5   \n",
       "4                          3             3                   2                      3   \n",
       "...                      ...           ...                 ...                    ...   \n",
       "26700                      4             2                   5                      5   \n",
       "26701                      4             2                   4                      4   \n",
       "26702                      3             1                   1                      5   \n",
       "26703                      4             2                   2                      5   \n",
       "26706                      5             1                   1                      5   \n",
       "\n",
       "      is_seas_risky sick_from_seas_vacc    age_bracket     qualification   race     sex  \\\n",
       "0                 1                   2  55 - 64 Years        < 12 Years  White  Female   \n",
       "1                 2                   4  35 - 44 Years          12 Years  White    Male   \n",
       "2                 1                   2  18 - 34 Years  College Graduate  White    Male   \n",
       "3                 4                   1      65+ Years          12 Years  White  Female   \n",
       "4                 1                   4  45 - 54 Years      Some College  White  Female   \n",
       "...             ...                 ...            ...               ...    ...     ...   \n",
       "26700             4                   5  55 - 64 Years          12 Years  White  Female   \n",
       "26701             2                   4  18 - 34 Years  College Graduate  White  Female   \n",
       "26702             2                   2      65+ Years      Some College  White  Female   \n",
       "26703             1                   1  18 - 34 Years  College Graduate  White    Male   \n",
       "26706             1                   1      65+ Years      Some College  White    Male   \n",
       "\n",
       "      marital_status housing_status          employment                census_msa no_of_adults  \\\n",
       "0        Not Married            Own  Not in Labor Force                   Non-MSA            0   \n",
       "1        Not Married           Rent            Employed  MSA, Not Principle  City            0   \n",
       "2        Not Married            Own            Employed  MSA, Not Principle  City            2   \n",
       "3        Not Married           Rent  Not in Labor Force       MSA, Principle City            0   \n",
       "4            Married            Own            Employed  MSA, Not Principle  City            1   \n",
       "...              ...            ...                 ...                       ...          ...   \n",
       "26700        Married            Own  Not in Labor Force       MSA, Principle City            1   \n",
       "26701    Not Married           Rent  Not in Labor Force       MSA, Principle City            3   \n",
       "26702    Not Married            Own  Not in Labor Force                   Non-MSA            0   \n",
       "26703    Not Married           Rent            Employed       MSA, Principle City            1   \n",
       "26706        Married            Own  Not in Labor Force       MSA, Principle City            1   \n",
       "\n",
       "      no_of_children h1n1_vaccine  \n",
       "0                  0            0  \n",
       "1                  0            0  \n",
       "2                  0            0  \n",
       "3                  0            0  \n",
       "4                  0            0  \n",
       "...              ...          ...  \n",
       "26700              0            0  \n",
       "26701              0            0  \n",
       "26702              0            0  \n",
       "26703              0            0  \n",
       "26706              0            0  \n",
       "\n",
       "[23426 rows x 30 columns]"
      ]
     },
     "execution_count": 28,
     "metadata": {},
     "output_type": "execute_result"
    }
   ],
   "source": [
    "df_vaccine_dropped"
   ]
  },
  {
   "cell_type": "code",
   "execution_count": 29,
   "metadata": {
    "ExecuteTime": {
     "end_time": "2021-06-22T06:10:51.526189Z",
     "start_time": "2021-06-22T06:10:51.510431Z"
    }
   },
   "outputs": [],
   "source": [
    "categorical_non_label=['age_bracket'\n",
    ",'qualification'\n",
    ",'race'\n",
    ",'sex'\n",
    ",'marital_status'\n",
    ",'housing_status'\n",
    ",'employment'\n",
    ",'census_msa']\n",
    "\n",
    "target_variable='h1n1_vaccine'"
   ]
  },
  {
   "cell_type": "code",
   "execution_count": 30,
   "metadata": {
    "ExecuteTime": {
     "end_time": "2021-06-22T06:10:51.852645Z",
     "start_time": "2021-06-22T06:10:51.835186Z"
    }
   },
   "outputs": [],
   "source": [
    "categorical_label_data=set(df_vaccine_dropped.columns)-set(categorical_non_label)\n",
    "categorical_label_data=list(categorical_label_data-set(target_variable))"
   ]
  },
  {
   "cell_type": "code",
   "execution_count": 31,
   "metadata": {
    "ExecuteTime": {
     "end_time": "2021-06-22T06:10:52.189444Z",
     "start_time": "2021-06-22T06:10:52.184141Z"
    }
   },
   "outputs": [],
   "source": [
    "categorical_label_data.remove('unique_id')\n",
    "categorical_label_data.remove('h1n1_vaccine')"
   ]
  },
  {
   "cell_type": "code",
   "execution_count": 32,
   "metadata": {
    "ExecuteTime": {
     "end_time": "2021-06-22T06:10:58.675449Z",
     "start_time": "2021-06-22T06:10:58.659824Z"
    }
   },
   "outputs": [],
   "source": [
    "# lets create a simple model with just this"
   ]
  },
  {
   "cell_type": "code",
   "execution_count": 33,
   "metadata": {
    "ExecuteTime": {
     "end_time": "2021-06-22T06:10:59.031688Z",
     "start_time": "2021-06-22T06:10:59.009888Z"
    }
   },
   "outputs": [],
   "source": [
    "#predictors\n",
    "X=df_vaccine_dropped[categorical_label_data[:19]]\n",
    "\n",
    "#target\n",
    "y=df_vaccine_dropped[target_variable]"
   ]
  },
  {
   "cell_type": "code",
   "execution_count": 34,
   "metadata": {
    "ExecuteTime": {
     "end_time": "2021-06-22T06:10:59.646791Z",
     "start_time": "2021-06-22T06:10:59.491547Z"
    }
   },
   "outputs": [
    {
     "ename": "ValueError",
     "evalue": "Unknown label type: 'unknown'",
     "output_type": "error",
     "traceback": [
      "\u001b[1;31m---------------------------------------------------------------------------\u001b[0m",
      "\u001b[1;31mValueError\u001b[0m                                Traceback (most recent call last)",
      "\u001b[1;32m<ipython-input-34-de0f12550ca7>\u001b[0m in \u001b[0;36m<module>\u001b[1;34m\u001b[0m\n\u001b[0;32m      3\u001b[0m \u001b[1;33m\u001b[0m\u001b[0m\n\u001b[0;32m      4\u001b[0m \u001b[0mlogmodel1\u001b[0m \u001b[1;33m=\u001b[0m \u001b[0mLogisticRegression\u001b[0m\u001b[1;33m(\u001b[0m\u001b[1;33m)\u001b[0m\u001b[1;33m\u001b[0m\u001b[1;33m\u001b[0m\u001b[0m\n\u001b[1;32m----> 5\u001b[1;33m \u001b[0mlogmodel1\u001b[0m\u001b[1;33m.\u001b[0m\u001b[0mfit\u001b[0m\u001b[1;33m(\u001b[0m\u001b[0mX_train\u001b[0m\u001b[1;33m,\u001b[0m\u001b[0my_train\u001b[0m\u001b[1;33m)\u001b[0m\u001b[1;33m\u001b[0m\u001b[1;33m\u001b[0m\u001b[0m\n\u001b[0m",
      "\u001b[1;32m~\\anaconda3\\lib\\site-packages\\sklearn\\linear_model\\_logistic.py\u001b[0m in \u001b[0;36mfit\u001b[1;34m(self, X, y, sample_weight)\u001b[0m\n\u001b[0;32m   1343\u001b[0m                                    \u001b[0morder\u001b[0m\u001b[1;33m=\u001b[0m\u001b[1;34m\"C\"\u001b[0m\u001b[1;33m,\u001b[0m\u001b[1;33m\u001b[0m\u001b[1;33m\u001b[0m\u001b[0m\n\u001b[0;32m   1344\u001b[0m                                    accept_large_sparse=solver != 'liblinear')\n\u001b[1;32m-> 1345\u001b[1;33m         \u001b[0mcheck_classification_targets\u001b[0m\u001b[1;33m(\u001b[0m\u001b[0my\u001b[0m\u001b[1;33m)\u001b[0m\u001b[1;33m\u001b[0m\u001b[1;33m\u001b[0m\u001b[0m\n\u001b[0m\u001b[0;32m   1346\u001b[0m         \u001b[0mself\u001b[0m\u001b[1;33m.\u001b[0m\u001b[0mclasses_\u001b[0m \u001b[1;33m=\u001b[0m \u001b[0mnp\u001b[0m\u001b[1;33m.\u001b[0m\u001b[0munique\u001b[0m\u001b[1;33m(\u001b[0m\u001b[0my\u001b[0m\u001b[1;33m)\u001b[0m\u001b[1;33m\u001b[0m\u001b[1;33m\u001b[0m\u001b[0m\n\u001b[0;32m   1347\u001b[0m \u001b[1;33m\u001b[0m\u001b[0m\n",
      "\u001b[1;32m~\\anaconda3\\lib\\site-packages\\sklearn\\utils\\multiclass.py\u001b[0m in \u001b[0;36mcheck_classification_targets\u001b[1;34m(y)\u001b[0m\n\u001b[0;32m    170\u001b[0m     if y_type not in ['binary', 'multiclass', 'multiclass-multioutput',\n\u001b[0;32m    171\u001b[0m                       'multilabel-indicator', 'multilabel-sequences']:\n\u001b[1;32m--> 172\u001b[1;33m         \u001b[1;32mraise\u001b[0m \u001b[0mValueError\u001b[0m\u001b[1;33m(\u001b[0m\u001b[1;34m\"Unknown label type: %r\"\u001b[0m \u001b[1;33m%\u001b[0m \u001b[0my_type\u001b[0m\u001b[1;33m)\u001b[0m\u001b[1;33m\u001b[0m\u001b[1;33m\u001b[0m\u001b[0m\n\u001b[0m\u001b[0;32m    173\u001b[0m \u001b[1;33m\u001b[0m\u001b[0m\n\u001b[0;32m    174\u001b[0m \u001b[1;33m\u001b[0m\u001b[0m\n",
      "\u001b[1;31mValueError\u001b[0m: Unknown label type: 'unknown'"
     ]
    }
   ],
   "source": [
    "X_train, X_test, y_train, y_test = train_test_split(X, y, test_size=0.33, random_state=42)\n",
    "from sklearn.linear_model import LogisticRegression\n",
    "\n",
    "logmodel1 = LogisticRegression()\n",
    "logmodel1.fit(X_train,y_train)"
   ]
  },
  {
   "cell_type": "code",
   "execution_count": 35,
   "metadata": {
    "ExecuteTime": {
     "end_time": "2021-06-22T06:11:01.052136Z",
     "start_time": "2021-06-22T06:11:01.047079Z"
    }
   },
   "outputs": [
    {
     "data": {
      "text/plain": [
       "((15695, 19), (7731, 19))"
      ]
     },
     "execution_count": 35,
     "metadata": {},
     "output_type": "execute_result"
    }
   ],
   "source": [
    "X_train.shape, X_test.shape"
   ]
  },
  {
   "cell_type": "code",
   "execution_count": 36,
   "metadata": {
    "ExecuteTime": {
     "end_time": "2021-06-22T06:11:02.638758Z",
     "start_time": "2021-06-22T06:11:02.611484Z"
    }
   },
   "outputs": [
    {
     "ename": "AttributeError",
     "evalue": "'LogisticRegression' object has no attribute 'coef_'",
     "output_type": "error",
     "traceback": [
      "\u001b[1;31m---------------------------------------------------------------------------\u001b[0m",
      "\u001b[1;31mAttributeError\u001b[0m                            Traceback (most recent call last)",
      "\u001b[1;32m<ipython-input-36-4c1c6e7fe1e1>\u001b[0m in \u001b[0;36m<module>\u001b[1;34m\u001b[0m\n\u001b[0;32m      1\u001b[0m \u001b[1;31m## Predictions and Evaluations\u001b[0m\u001b[1;33m\u001b[0m\u001b[1;33m\u001b[0m\u001b[1;33m\u001b[0m\u001b[0m\n\u001b[1;32m----> 2\u001b[1;33m \u001b[0mpredictions\u001b[0m \u001b[1;33m=\u001b[0m \u001b[0mlogmodel1\u001b[0m\u001b[1;33m.\u001b[0m\u001b[0mpredict\u001b[0m\u001b[1;33m(\u001b[0m\u001b[0mX_test\u001b[0m\u001b[1;33m)\u001b[0m\u001b[1;33m\u001b[0m\u001b[1;33m\u001b[0m\u001b[0m\n\u001b[0m\u001b[0;32m      3\u001b[0m \u001b[1;32mfrom\u001b[0m \u001b[0msklearn\u001b[0m\u001b[1;33m.\u001b[0m\u001b[0mmetrics\u001b[0m \u001b[1;32mimport\u001b[0m \u001b[0mclassification_report\u001b[0m\u001b[1;33m\u001b[0m\u001b[1;33m\u001b[0m\u001b[0m\n\u001b[0;32m      4\u001b[0m \u001b[0mprint\u001b[0m\u001b[1;33m(\u001b[0m\u001b[0mclassification_report\u001b[0m\u001b[1;33m(\u001b[0m\u001b[0my_test\u001b[0m\u001b[1;33m,\u001b[0m\u001b[0mpredictions\u001b[0m\u001b[1;33m)\u001b[0m\u001b[1;33m)\u001b[0m\u001b[1;33m\u001b[0m\u001b[1;33m\u001b[0m\u001b[0m\n",
      "\u001b[1;32m~\\anaconda3\\lib\\site-packages\\sklearn\\linear_model\\_base.py\u001b[0m in \u001b[0;36mpredict\u001b[1;34m(self, X)\u001b[0m\n\u001b[0;32m    305\u001b[0m             \u001b[0mPredicted\u001b[0m \u001b[1;32mclass\u001b[0m \u001b[0mlabel\u001b[0m \u001b[0mper\u001b[0m \u001b[0msample\u001b[0m\u001b[1;33m.\u001b[0m\u001b[1;33m\u001b[0m\u001b[1;33m\u001b[0m\u001b[0m\n\u001b[0;32m    306\u001b[0m         \"\"\"\n\u001b[1;32m--> 307\u001b[1;33m         \u001b[0mscores\u001b[0m \u001b[1;33m=\u001b[0m \u001b[0mself\u001b[0m\u001b[1;33m.\u001b[0m\u001b[0mdecision_function\u001b[0m\u001b[1;33m(\u001b[0m\u001b[0mX\u001b[0m\u001b[1;33m)\u001b[0m\u001b[1;33m\u001b[0m\u001b[1;33m\u001b[0m\u001b[0m\n\u001b[0m\u001b[0;32m    308\u001b[0m         \u001b[1;32mif\u001b[0m \u001b[0mlen\u001b[0m\u001b[1;33m(\u001b[0m\u001b[0mscores\u001b[0m\u001b[1;33m.\u001b[0m\u001b[0mshape\u001b[0m\u001b[1;33m)\u001b[0m \u001b[1;33m==\u001b[0m \u001b[1;36m1\u001b[0m\u001b[1;33m:\u001b[0m\u001b[1;33m\u001b[0m\u001b[1;33m\u001b[0m\u001b[0m\n\u001b[0;32m    309\u001b[0m             \u001b[0mindices\u001b[0m \u001b[1;33m=\u001b[0m \u001b[1;33m(\u001b[0m\u001b[0mscores\u001b[0m \u001b[1;33m>\u001b[0m \u001b[1;36m0\u001b[0m\u001b[1;33m)\u001b[0m\u001b[1;33m.\u001b[0m\u001b[0mastype\u001b[0m\u001b[1;33m(\u001b[0m\u001b[0mnp\u001b[0m\u001b[1;33m.\u001b[0m\u001b[0mint\u001b[0m\u001b[1;33m)\u001b[0m\u001b[1;33m\u001b[0m\u001b[1;33m\u001b[0m\u001b[0m\n",
      "\u001b[1;32m~\\anaconda3\\lib\\site-packages\\sklearn\\linear_model\\_base.py\u001b[0m in \u001b[0;36mdecision_function\u001b[1;34m(self, X)\u001b[0m\n\u001b[0;32m    282\u001b[0m         \u001b[0mX\u001b[0m \u001b[1;33m=\u001b[0m \u001b[0mcheck_array\u001b[0m\u001b[1;33m(\u001b[0m\u001b[0mX\u001b[0m\u001b[1;33m,\u001b[0m \u001b[0maccept_sparse\u001b[0m\u001b[1;33m=\u001b[0m\u001b[1;34m'csr'\u001b[0m\u001b[1;33m)\u001b[0m\u001b[1;33m\u001b[0m\u001b[1;33m\u001b[0m\u001b[0m\n\u001b[0;32m    283\u001b[0m \u001b[1;33m\u001b[0m\u001b[0m\n\u001b[1;32m--> 284\u001b[1;33m         \u001b[0mn_features\u001b[0m \u001b[1;33m=\u001b[0m \u001b[0mself\u001b[0m\u001b[1;33m.\u001b[0m\u001b[0mcoef_\u001b[0m\u001b[1;33m.\u001b[0m\u001b[0mshape\u001b[0m\u001b[1;33m[\u001b[0m\u001b[1;36m1\u001b[0m\u001b[1;33m]\u001b[0m\u001b[1;33m\u001b[0m\u001b[1;33m\u001b[0m\u001b[0m\n\u001b[0m\u001b[0;32m    285\u001b[0m         \u001b[1;32mif\u001b[0m \u001b[0mX\u001b[0m\u001b[1;33m.\u001b[0m\u001b[0mshape\u001b[0m\u001b[1;33m[\u001b[0m\u001b[1;36m1\u001b[0m\u001b[1;33m]\u001b[0m \u001b[1;33m!=\u001b[0m \u001b[0mn_features\u001b[0m\u001b[1;33m:\u001b[0m\u001b[1;33m\u001b[0m\u001b[1;33m\u001b[0m\u001b[0m\n\u001b[0;32m    286\u001b[0m             raise ValueError(\"X has %d features per sample; expecting %d\"\n",
      "\u001b[1;31mAttributeError\u001b[0m: 'LogisticRegression' object has no attribute 'coef_'"
     ]
    }
   ],
   "source": [
    "## Predictions and Evaluations\n",
    "predictions = logmodel1.predict(X_test)\n",
    "from sklearn.metrics import classification_report\n",
    "print(classification_report(y_test,predictions))"
   ]
  },
  {
   "cell_type": "code",
   "execution_count": 37,
   "metadata": {
    "ExecuteTime": {
     "end_time": "2021-06-22T06:05:56.861540Z",
     "start_time": "2021-06-22T06:05:56.844023Z"
    }
   },
   "outputs": [],
   "source": [
    "df_vaccine_dropped['h1n1_vaccine']=df_vaccine_dropped['h1n1_vaccine'].astype('int')"
   ]
  },
  {
   "cell_type": "code",
   "execution_count": 38,
   "metadata": {
    "ExecuteTime": {
     "end_time": "2021-06-22T06:11:27.680857Z",
     "start_time": "2021-06-22T06:11:27.508958Z"
    }
   },
   "outputs": [
    {
     "name": "stdout",
     "output_type": "stream",
     "text": [
      "              precision    recall  f1-score   support\n",
      "\n",
      "           0       0.83      0.95      0.89      5492\n",
      "           1       0.65      0.30      0.41      1536\n",
      "\n",
      "    accuracy                           0.81      7028\n",
      "   macro avg       0.74      0.63      0.65      7028\n",
      "weighted avg       0.79      0.81      0.78      7028\n",
      "\n"
     ]
    }
   ],
   "source": [
    "X=df_vaccine_dropped[categorical_label_data]\n",
    "y=df_vaccine_dropped[target_variable]\n",
    "\n",
    "X_train, X_test, y_train, y_test = train_test_split(X, y, test_size=0.3, random_state=42)\n",
    "from sklearn.linear_model import LogisticRegression\n",
    "\n",
    "logmodel1 = LogisticRegression()\n",
    "logmodel1.fit(X_train,y_train)\n",
    "\n",
    "## Predictions and Evaluations\n",
    "predictions = logmodel1.predict(X_test)\n",
    "from sklearn.metrics import classification_report\n",
    "print(classification_report(y_test,predictions))"
   ]
  },
  {
   "cell_type": "code",
   "execution_count": 39,
   "metadata": {
    "ExecuteTime": {
     "end_time": "2021-06-22T06:16:08.221928Z",
     "start_time": "2021-06-22T06:16:08.190745Z"
    }
   },
   "outputs": [
    {
     "data": {
      "text/plain": [
       "array([[5240,  252],\n",
       "       [1070,  466]], dtype=int64)"
      ]
     },
     "execution_count": 39,
     "metadata": {},
     "output_type": "execute_result"
    }
   ],
   "source": [
    "confusion_matrix(y_test,predictions)"
   ]
  },
  {
   "cell_type": "code",
   "execution_count": 40,
   "metadata": {
    "ExecuteTime": {
     "end_time": "2021-06-22T06:17:48.083361Z",
     "start_time": "2021-06-22T06:17:47.975627Z"
    }
   },
   "outputs": [],
   "source": [
    "for i in categorical_label_data:\n",
    "    df_vaccine_dropped[i]=df_vaccine_dropped[i].astype('float')"
   ]
  },
  {
   "cell_type": "code",
   "execution_count": 41,
   "metadata": {
    "ExecuteTime": {
     "end_time": "2021-06-22T06:17:49.584082Z",
     "start_time": "2021-06-22T06:17:49.464658Z"
    }
   },
   "outputs": [
    {
     "name": "stdout",
     "output_type": "stream",
     "text": [
      "Optimization terminated successfully.\n",
      "         Current function value: 0.489371\n",
      "         Iterations 6\n",
      "                           Logit Regression Results                           \n",
      "==============================================================================\n",
      "Dep. Variable:           h1n1_vaccine   No. Observations:                16398\n",
      "Model:                          Logit   Df Residuals:                    16378\n",
      "Method:                           MLE   Df Model:                           19\n",
      "Date:                Sun, 27 Jun 2021   Pseudo R-squ.:                 0.05629\n",
      "Time:                        20:32:09   Log-Likelihood:                -8024.7\n",
      "converged:                       True   LL-Null:                       -8503.3\n",
      "Covariance Type:            nonrobust   LLR p-value:                7.039e-191\n",
      "=============================================================================================\n",
      "                                coef    std err          z      P>|z|      [0.025      0.975]\n",
      "---------------------------------------------------------------------------------------------\n",
      "sick_from_seas_vacc          -0.2655      0.018    -15.064      0.000      -0.300      -0.231\n",
      "cont_child_undr_6_mnths       0.2532      0.068      3.735      0.000       0.120       0.386\n",
      "wash_hands_frequently        -0.4947      0.056     -8.799      0.000      -0.605      -0.384\n",
      "is_seas_risky                 0.1711      0.018      9.410      0.000       0.135       0.207\n",
      "is_seas_vacc_effective       -0.3229      0.020    -16.148      0.000      -0.362      -0.284\n",
      "bought_face_mask              0.3075      0.078      3.951      0.000       0.155       0.460\n",
      "chronic_medic_condition       0.1498      0.044      3.443      0.001       0.064       0.235\n",
      "avoid_touch_face             -0.0263      0.048     -0.549      0.583      -0.120       0.068\n",
      "no_of_adults                 -0.2198      0.027     -8.205      0.000      -0.272      -0.167\n",
      "is_h1n1_vacc_effective        0.0677      0.021      3.199      0.001       0.026       0.109\n",
      "sick_from_h1n1_vacc          -0.0948      0.018     -5.334      0.000      -0.130      -0.060\n",
      "no_of_children               -0.1319      0.023     -5.778      0.000      -0.177      -0.087\n",
      "h1n1_awareness               -0.2188      0.032     -6.824      0.000      -0.282      -0.156\n",
      "is_h1n1_risky                 0.4403      0.019     22.871      0.000       0.403       0.478\n",
      "avoid_large_gatherings       -0.0920      0.052     -1.757      0.079      -0.195       0.011\n",
      "is_health_worker              0.8798      0.056     15.611      0.000       0.769       0.990\n",
      "reduced_outside_home_cont    -0.0765      0.053     -1.440      0.150      -0.181       0.028\n",
      "contact_avoidance            -0.1546      0.048     -3.207      0.001      -0.249      -0.060\n",
      "h1n1_worry                   -0.0303      0.026     -1.148      0.251      -0.082       0.021\n",
      "antiviral_medication          0.2450      0.091      2.695      0.007       0.067       0.423\n",
      "=============================================================================================\n",
      "              precision    recall  f1-score   support\n",
      "\n",
      "           0       0.80      0.95      0.87      5492\n",
      "           1       0.50      0.17      0.25      1536\n",
      "\n",
      "    accuracy                           0.78      7028\n",
      "   macro avg       0.65      0.56      0.56      7028\n",
      "weighted avg       0.74      0.78      0.74      7028\n",
      "\n"
     ]
    }
   ],
   "source": [
    "# logistic regression model\n",
    "import statsmodels.api as sm \n",
    "\n",
    "X=df_vaccine_dropped[categorical_label_data]\n",
    "y=df_vaccine_dropped[target_variable]\n",
    "\n",
    "X_train, X_test, y_train, y_test = train_test_split(X, y, test_size=0.3, random_state=42)\n",
    "\n",
    "# X = sm.add_constant(X)\n",
    "\n",
    "# fit the model with maximum likelihood function\n",
    "model = sm.Logit(y_train, X_train).fit()\n",
    "\n",
    "print(model.summary())\n",
    "## Predictions and Evaluations\n",
    "predictions = list(map(round,model.predict(X_test)))\n",
    "print(classification_report(y_test,predictions))"
   ]
  },
  {
   "cell_type": "code",
   "execution_count": 42,
   "metadata": {
    "ExecuteTime": {
     "end_time": "2021-06-22T06:19:39.021343Z",
     "start_time": "2021-06-22T06:19:39.011050Z"
    }
   },
   "outputs": [],
   "source": [
    "categorical_label_data.remove('h1n1_worry')\n",
    "categorical_label_data.remove('reduced_outside_home_cont')\n",
    "categorical_label_data.remove('avoid_touch_face')\n",
    "categorical_label_data.remove('avoid_large_gatherings')"
   ]
  },
  {
   "cell_type": "code",
   "execution_count": 43,
   "metadata": {
    "ExecuteTime": {
     "end_time": "2021-06-22T06:19:50.490022Z",
     "start_time": "2021-06-22T06:19:50.360661Z"
    }
   },
   "outputs": [
    {
     "name": "stdout",
     "output_type": "stream",
     "text": [
      "              precision    recall  f1-score   support\n",
      "\n",
      "           0       0.83      0.95      0.89      5492\n",
      "           1       0.64      0.30      0.41      1536\n",
      "\n",
      "    accuracy                           0.81      7028\n",
      "   macro avg       0.74      0.63      0.65      7028\n",
      "weighted avg       0.79      0.81      0.78      7028\n",
      "\n"
     ]
    }
   ],
   "source": [
    "X=df_vaccine_dropped[categorical_label_data]\n",
    "y=df_vaccine_dropped[target_variable]\n",
    "\n",
    "X_train, X_test, y_train, y_test = train_test_split(X, y, test_size=0.3, random_state=42)\n",
    "from sklearn.linear_model import LogisticRegression\n",
    "\n",
    "logmodel1 = LogisticRegression()\n",
    "logmodel1.fit(X_train,y_train)\n",
    "\n",
    "## Predictions and Evaluations\n",
    "predictions = logmodel1.predict(X_test)\n",
    "from sklearn.metrics import classification_report\n",
    "print(classification_report(y_test,predictions))"
   ]
  },
  {
   "cell_type": "code",
   "execution_count": null,
   "metadata": {},
   "outputs": [],
   "source": []
  }
 ],
 "metadata": {
  "kernelspec": {
   "display_name": "Python 3",
   "language": "python",
   "name": "python3"
  },
  "language_info": {
   "codemirror_mode": {
    "name": "ipython",
    "version": 3
   },
   "file_extension": ".py",
   "mimetype": "text/x-python",
   "name": "python",
   "nbconvert_exporter": "python",
   "pygments_lexer": "ipython3",
   "version": "3.8.5"
  },
  "toc": {
   "base_numbering": 1,
   "nav_menu": {},
   "number_sections": true,
   "sideBar": true,
   "skip_h1_title": false,
   "title_cell": "Table of Contents",
   "title_sidebar": "Contents",
   "toc_cell": false,
   "toc_position": {
    "height": "calc(100% - 180px)",
    "left": "10px",
    "top": "150px",
    "width": "199.5px"
   },
   "toc_section_display": true,
   "toc_window_display": true
  }
 },
 "nbformat": 4,
 "nbformat_minor": 4
}
